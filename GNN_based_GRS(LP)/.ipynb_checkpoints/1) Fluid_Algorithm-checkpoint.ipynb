{
 "cells": [
  {
   "cell_type": "markdown",
   "id": "3455eeb1",
   "metadata": {},
   "source": [
    "## Total edge에 user edge만 추가"
   ]
  },
  {
   "cell_type": "code",
   "execution_count": 1,
   "id": "73166f4a",
   "metadata": {},
   "outputs": [],
   "source": [
    "from networkx.algorithms import bipartite\n",
    "import networkx as nx\n",
    "from networkx import *\n",
    "import pandas as pd\n",
    "import matplotlib.pyplot as plt\n",
    "from sklearn.preprocessing import MinMaxScaler"
   ]
  },
  {
   "cell_type": "code",
   "execution_count": 2,
   "id": "fd6a91ac",
   "metadata": {},
   "outputs": [],
   "source": [
    "# 80000row\n",
    "user_train = pd.read_csv('ml-100k/u5.base', sep='\\t',names=[\"userID\",\"itemID\",\"rating\",\"timestamp\"],header=None, na_filter=False)\n",
    "user_train = user_train[['userID','itemID','rating']]\n",
    "\n",
    "# 100000row\n",
    "user_total = pd.read_csv('ml-100k/u.data', sep='\\t',names=[\"userID\",\"itemID\",\"rating\",\"timestamp\"],header=None, na_filter=False)\n",
    "user_total = user_total[['userID','itemID','rating']]\n",
    "\n",
    "# 20000row\n",
    "user_test = pd.read_csv('ml-100k/u5.test', sep='\\t',names=[\"userID\",\"itemID\",\"rating\",\"timestamp\"],header=None, na_filter=False)\n",
    "user_test = user_test[['userID','itemID','rating']]\n"
   ]
  },
  {
   "cell_type": "code",
   "execution_count": 3,
   "id": "1d10036b",
   "metadata": {},
   "outputs": [
    {
     "data": {
      "text/plain": [
       "\"\\nmin_max_scaler = MinMaxScaler()\\n\\nx_scaled = min_max_scaler.fit_transform(user_train[['rating']])\\nuser_train[['rating']] = x_scaled\\n\\nx_scaled = min_max_scaler.fit_transform(user_total[['rating']])\\nuser_total[['rating']] = x_scaled\\n\\nx_scaled = min_max_scaler.fit_transform(user_test[['rating']])\\nuser_test [['rating']] = x_scaled\\n\""
      ]
     },
     "execution_count": 3,
     "metadata": {},
     "output_type": "execute_result"
    }
   ],
   "source": [
    "'''\n",
    "min_max_scaler = MinMaxScaler()\n",
    "\n",
    "x_scaled = min_max_scaler.fit_transform(user_train[['rating']])\n",
    "user_train[['rating']] = x_scaled\n",
    "\n",
    "x_scaled = min_max_scaler.fit_transform(user_total[['rating']])\n",
    "user_total[['rating']] = x_scaled\n",
    "\n",
    "x_scaled = min_max_scaler.fit_transform(user_test[['rating']])\n",
    "user_test [['rating']] = x_scaled\n",
    "'''"
   ]
  },
  {
   "cell_type": "code",
   "execution_count": 4,
   "id": "137c3dd9",
   "metadata": {},
   "outputs": [],
   "source": [
    "user_item_total = user_total.pivot_table('rating', index = 'userID',columns = 'itemID').fillna(0)\n",
    "user_item_train = user_train.pivot_table('rating', index = 'userID',columns = 'itemID').fillna(0) # train 용\n",
    "user_item_test = user_test.pivot_table('rating', index = 'userID',columns = 'itemID').fillna(0)\n",
    "\n",
    "total_user_idx = user_item_total.index"
   ]
  },
  {
   "cell_type": "code",
   "execution_count": 5,
   "id": "c2bd618d",
   "metadata": {},
   "outputs": [
    {
     "data": {
      "text/html": [
       "<div>\n",
       "<style scoped>\n",
       "    .dataframe tbody tr th:only-of-type {\n",
       "        vertical-align: middle;\n",
       "    }\n",
       "\n",
       "    .dataframe tbody tr th {\n",
       "        vertical-align: top;\n",
       "    }\n",
       "\n",
       "    .dataframe thead th {\n",
       "        text-align: right;\n",
       "    }\n",
       "</style>\n",
       "<table border=\"1\" class=\"dataframe\">\n",
       "  <thead>\n",
       "    <tr style=\"text-align: right;\">\n",
       "      <th></th>\n",
       "      <th>userID</th>\n",
       "      <th>itemID</th>\n",
       "      <th>rating</th>\n",
       "      <th>timestamp</th>\n",
       "    </tr>\n",
       "  </thead>\n",
       "  <tbody>\n",
       "    <tr>\n",
       "      <th>0</th>\n",
       "      <td>u196</td>\n",
       "      <td>i242</td>\n",
       "      <td>3</td>\n",
       "      <td>881250949</td>\n",
       "    </tr>\n",
       "    <tr>\n",
       "      <th>1</th>\n",
       "      <td>u186</td>\n",
       "      <td>i302</td>\n",
       "      <td>3</td>\n",
       "      <td>891717742</td>\n",
       "    </tr>\n",
       "    <tr>\n",
       "      <th>2</th>\n",
       "      <td>u22</td>\n",
       "      <td>i377</td>\n",
       "      <td>1</td>\n",
       "      <td>878887116</td>\n",
       "    </tr>\n",
       "    <tr>\n",
       "      <th>3</th>\n",
       "      <td>u244</td>\n",
       "      <td>i51</td>\n",
       "      <td>2</td>\n",
       "      <td>880606923</td>\n",
       "    </tr>\n",
       "    <tr>\n",
       "      <th>4</th>\n",
       "      <td>u166</td>\n",
       "      <td>i346</td>\n",
       "      <td>1</td>\n",
       "      <td>886397596</td>\n",
       "    </tr>\n",
       "    <tr>\n",
       "      <th>...</th>\n",
       "      <td>...</td>\n",
       "      <td>...</td>\n",
       "      <td>...</td>\n",
       "      <td>...</td>\n",
       "    </tr>\n",
       "    <tr>\n",
       "      <th>99995</th>\n",
       "      <td>u880</td>\n",
       "      <td>i476</td>\n",
       "      <td>3</td>\n",
       "      <td>880175444</td>\n",
       "    </tr>\n",
       "    <tr>\n",
       "      <th>99996</th>\n",
       "      <td>u716</td>\n",
       "      <td>i204</td>\n",
       "      <td>5</td>\n",
       "      <td>879795543</td>\n",
       "    </tr>\n",
       "    <tr>\n",
       "      <th>99997</th>\n",
       "      <td>u276</td>\n",
       "      <td>i1090</td>\n",
       "      <td>1</td>\n",
       "      <td>874795795</td>\n",
       "    </tr>\n",
       "    <tr>\n",
       "      <th>99998</th>\n",
       "      <td>u13</td>\n",
       "      <td>i225</td>\n",
       "      <td>2</td>\n",
       "      <td>882399156</td>\n",
       "    </tr>\n",
       "    <tr>\n",
       "      <th>99999</th>\n",
       "      <td>u12</td>\n",
       "      <td>i203</td>\n",
       "      <td>3</td>\n",
       "      <td>879959583</td>\n",
       "    </tr>\n",
       "  </tbody>\n",
       "</table>\n",
       "<p>100000 rows × 4 columns</p>\n",
       "</div>"
      ],
      "text/plain": [
       "      userID itemID  rating  timestamp\n",
       "0       u196   i242       3  881250949\n",
       "1       u186   i302       3  891717742\n",
       "2        u22   i377       1  878887116\n",
       "3       u244    i51       2  880606923\n",
       "4       u166   i346       1  886397596\n",
       "...      ...    ...     ...        ...\n",
       "99995   u880   i476       3  880175444\n",
       "99996   u716   i204       5  879795543\n",
       "99997   u276  i1090       1  874795795\n",
       "99998    u13   i225       2  882399156\n",
       "99999    u12   i203       3  879959583\n",
       "\n",
       "[100000 rows x 4 columns]"
      ]
     },
     "execution_count": 5,
     "metadata": {},
     "output_type": "execute_result"
    }
   ],
   "source": [
    "## user-item node 이름 설정\n",
    "\n",
    "matrix = pd.read_csv('ml-100k/u.data', sep='\\t',names=[\"userID\",\"itemID\",\"rating\",\"timestamp\"],header=None, na_filter=False)\n",
    "matrix[['userID']] = 'u' + matrix[['userID']].astype(str)\n",
    "matrix[['itemID']] = 'i' + matrix[['itemID']].astype(str)\n",
    "matrix"
   ]
  },
  {
   "cell_type": "code",
   "execution_count": 6,
   "id": "95902d4d",
   "metadata": {},
   "outputs": [],
   "source": [
    "import numpy as np\n",
    "user_node = matrix[['userID']].values\n",
    "user_node = np.array(user_node).flatten().tolist()\n",
    "#user_node"
   ]
  },
  {
   "cell_type": "code",
   "execution_count": 7,
   "id": "c3325052",
   "metadata": {},
   "outputs": [
    {
     "name": "stderr",
     "output_type": "stream",
     "text": [
      "C:\\Users\\kddin\\AppData\\Local\\Temp\\ipykernel_7244\\1259828340.py:3: DeprecationWarning: info is deprecated and will be removed in version 3.0.\n",
      "\n",
      "  info(G)\n"
     ]
    },
    {
     "data": {
      "text/plain": [
       "'Graph with 943 nodes and 0 edges'"
      ]
     },
     "execution_count": 7,
     "metadata": {},
     "output_type": "execute_result"
    }
   ],
   "source": [
    "G = nx.Graph()\n",
    "G.add_nodes_from(user_node)\n",
    "info(G)"
   ]
  },
  {
   "cell_type": "code",
   "execution_count": 8,
   "id": "da03e55e",
   "metadata": {},
   "outputs": [
    {
     "name": "stderr",
     "output_type": "stream",
     "text": [
      "C:\\Users\\kddin\\AppData\\Local\\Temp\\ipykernel_7244\\700776426.py:11: DeprecationWarning: info is deprecated and will be removed in version 3.0.\n",
      "\n",
      "  info(B)\n"
     ]
    },
    {
     "data": {
      "text/plain": [
       "'Graph with 2625 nodes and 100000 edges'"
      ]
     },
     "execution_count": 8,
     "metadata": {},
     "output_type": "execute_result"
    }
   ],
   "source": [
    "edgelist = []\n",
    "\n",
    "for i in matrix.values:\n",
    "    edgelist.append((i[0],i[1]))\n",
    "    \n",
    "B = nx.Graph() # >300\n",
    "B.add_nodes_from(matrix.userID, bipartite=0) # user\n",
    "B.add_nodes_from(matrix.itemID, bipartite=1) # item(movie)\n",
    "B.add_edges_from(edgelist)\n",
    "\n",
    "info(B)"
   ]
  },
  {
   "cell_type": "markdown",
   "id": "1fdd47d1",
   "metadata": {},
   "source": [
    "### 최대 연결 엣지 444153 (=943*(942/2)"
   ]
  },
  {
   "cell_type": "code",
   "execution_count": 9,
   "id": "d5cef68f",
   "metadata": {
    "scrolled": true
   },
   "outputs": [
    {
     "name": "stderr",
     "output_type": "stream",
     "text": [
      "C:\\Users\\kddin\\AppData\\Local\\Temp\\ipykernel_7244\\1209186748.py:9: DeprecationWarning: the `interpolation=` argument to percentile was renamed to `method=`, which has additional options.\n",
      "Users of the modes 'nearest', 'lower', 'higher', or 'midpoint' are encouraged to review the method they. (Deprecated NumPy 1.22)\n",
      "  link_99 = np.percentile(link_likelihood,  99.5, interpolation='linear')\n"
     ]
    },
    {
     "name": "stdout",
     "output_type": "stream",
     "text": [
      "total_graph connected :  True  user graph info :  Graph with 2625 nodes and 116425 edges\n",
      "user_graph connected :  False  user graph info :  Graph with 943 nodes and 8702 edges\n"
     ]
    },
    {
     "name": "stderr",
     "output_type": "stream",
     "text": [
      "C:\\Users\\kddin\\AppData\\Local\\Temp\\ipykernel_7244\\1209186748.py:25: DeprecationWarning: info is deprecated and will be removed in version 3.0.\n",
      "\n",
      "  print('total_graph connected : ', is_connected(B),' user graph info : ', info(B))\n",
      "C:\\Users\\kddin\\AppData\\Local\\Temp\\ipykernel_7244\\1209186748.py:26: DeprecationWarning: info is deprecated and will be removed in version 3.0.\n",
      "\n",
      "  print('user_graph connected : ', is_connected(G),' user graph info : ', info(G))\n"
     ]
    }
   ],
   "source": [
    "for i in range(10):\n",
    "    \n",
    "    user_edgelist = []\n",
    "    total_edgelist = []\n",
    "    \n",
    "    pred_link = list(nx.common_neighbor_centrality(B, alpha=0.8))\n",
    "    \n",
    "    link_likelihood = pd.DataFrame(pred_link).iloc[:,2].values\n",
    "    link_99 = np.percentile(link_likelihood,  99.5, interpolation='linear')\n",
    "    \n",
    "    for p in pred_link:\n",
    "        edge = list(p)\n",
    "        linklihood = int(edge[2])\n",
    "        \n",
    "        if linklihood > link_99:\n",
    "            if edge[0][:1] ==  edge[1][:1] == 'u': # user R\n",
    "                user_edgelist.append((edge[0], edge[1]))\n",
    "                total_edgelist.append((edge[0], edge[1]))\n",
    "            else :\n",
    "                total_edgelist.append((edge[0], edge[1]))\n",
    "                \n",
    "    B.add_edges_from(total_edgelist)\n",
    "    G.add_edges_from(user_edgelist)\n",
    "    \n",
    "    print('total_graph connected : ', is_connected(B),' user graph info : ', info(B))\n",
    "    print('user_graph connected : ', is_connected(G),' user graph info : ', info(G))\n",
    "    \n",
    "    if is_connected(B):\n",
    "        break\n",
    "    \n",
    "#print('total graph: ', info(B))\n",
    "#print('user_graph connected : ', is_connected(G),' user graph info : ', info(G))"
   ]
  },
  {
   "cell_type": "code",
   "execution_count": null,
   "id": "c2b8f0f5",
   "metadata": {},
   "outputs": [],
   "source": []
  },
  {
   "cell_type": "code",
   "execution_count": 10,
   "id": "d14f613c",
   "metadata": {},
   "outputs": [
    {
     "data": {
      "text/plain": [
       "'\\nfrom networkx.algorithms.community import asyn_fluidc\\nfrom networkx.algorithms.community import coverage, performance\\n\\ntotal_graph = B\\ncoverage_list2, performance_list2 = [], [] \\n        \\n\\nfor k in range(1, 101):\\n    print(\\'community set_{:0>2d}\\'.format(k))\\n    print(\"=\"*30)\\n    \\n    community = list(asyn_fluidc(total_graph, k=k))\\n        \\n    for i, comms in enumerate(community):\\n        print(\"community_{:0>2d}: {}\".format(i, comms))\\n        \\n        \\n    #community = list(asyn_fluidc(total_graph, k=k))\\n    coverage_list2.append(coverage(total_graph, community) )\\n    performance_list2.append( performance(total_graph, community) )\\n'"
      ]
     },
     "execution_count": 10,
     "metadata": {},
     "output_type": "execute_result"
    }
   ],
   "source": [
    "'''\n",
    "from networkx.algorithms.community import asyn_fluidc\n",
    "from networkx.algorithms.community import coverage, performance\n",
    "\n",
    "total_graph = B\n",
    "coverage_list2, performance_list2 = [], [] \n",
    "        \n",
    "\n",
    "for k in range(1, 101):\n",
    "    print('community set_{:0>2d}'.format(k))\n",
    "    print(\"=\"*30)\n",
    "    \n",
    "    community = list(asyn_fluidc(total_graph, k=k))\n",
    "        \n",
    "    for i, comms in enumerate(community):\n",
    "        print(\"community_{:0>2d}: {}\".format(i, comms))\n",
    "        \n",
    "        \n",
    "    #community = list(asyn_fluidc(total_graph, k=k))\n",
    "    coverage_list2.append(coverage(total_graph, community) )\n",
    "    performance_list2.append( performance(total_graph, community) )\n",
    "'''"
   ]
  },
  {
   "cell_type": "code",
   "execution_count": 11,
   "id": "d2727c7c",
   "metadata": {},
   "outputs": [],
   "source": [
    "## network clustering\n",
    "from networkx.algorithms.community import asyn_fluidc\n",
    "from networkx.algorithms.community import coverage, performance\n",
    "\n",
    "coverage_list, performance_list = [], [] \n",
    "\n",
    "def graph_clustering(cluster_num):\n",
    "    cluster = [0] * cluster_num\n",
    "    total_graph = B\n",
    "    \n",
    "    community = list(asyn_fluidc(total_graph, k=cluster_num))\n",
    "    \n",
    "    for i, comms in enumerate(community):\n",
    "        cluster[i] = comms\n",
    "        \n",
    "    coverage_list.append(coverage(total_graph, community))\n",
    "    performance_list.append(performance(total_graph, community))\n",
    "\n",
    "                \n",
    "    ## user cluster 정보\n",
    "    user_c = pd.read_csv('ml-100k/u.user', sep='|',names=[\"userID\",\"age\",\"gender\",\"occupation\",\"zip code\"],header=None,na_filter=False)\n",
    "    user_c = user_c[['userID']]\n",
    "    user_c = user_c.set_index('userID')\n",
    "    user_c['cluster'] = 999\n",
    "    \n",
    "    \n",
    "    cluster_cnt = [] # 각 cluster에 속한 user의 수 \n",
    "    \n",
    "    # 각 user와 cluster matching\n",
    "    for i in range(cluster_num):\n",
    "        cnt = 0\n",
    "        \n",
    "        for j in list(cluster[i]):\n",
    "            if j[0] == 'u':\n",
    "                cnt += 1\n",
    "                user_c.iloc[int(j[1:])-1] = i \n",
    "                \n",
    "        cluster_cnt.append(cnt)\n",
    "            \n",
    "    print('cluster num : ', cluster_num, \" -> \",cluster_cnt)\n",
    "    \n",
    "    return (user_c)\n",
    "        "
   ]
  },
  {
   "cell_type": "code",
   "execution_count": 12,
   "id": "5fec5538",
   "metadata": {},
   "outputs": [],
   "source": [
    "import numpy as np\n",
    "from sklearn.metrics import ndcg_score\n",
    "\n",
    "def grs(cluster_num, default_matrix,  save_rating):\n",
    "    \n",
    "    user_item_total = default_matrix\n",
    "    user_item_train = save_rating\n",
    "    kcluster = graph_clustering(cluster_num) # userID - cluster\n",
    "    \n",
    "    #AVG용 - user_item_train 에 user의 rating 평균값 열 추가\n",
    "    user_item_train[\"mean\"] = user_item_train.mean(axis=1)\n",
    "    # user_item_test 에 user의 rating 평균값 열 추가\n",
    "    user_item_test[\"mean\"] = user_item_test.mean(axis=1)\n",
    "    \n",
    "    \n",
    "    #train, test셋에 cluster 할당\n",
    "    cluster = user_item_train \n",
    "    cluster[\"cluster\"] = np.nan # train\n",
    "    user_item_test[\"cluster\"] = np.nan # test\n",
    "\n",
    "    \n",
    "    # test set에 할당\n",
    "    for i in kcluster.index:\n",
    "        if i in cluster.index:\n",
    "            cluster[\"cluster\"][i] = kcluster[\"cluster\"][i] # train\n",
    "        if i in user_item_test.index:\n",
    "            user_item_test[\"cluster\"][i] = kcluster[\"cluster\"][i] # test\n",
    "\n",
    "    cluster_user_matrix = pd.DataFrame(cluster)\n",
    "\n",
    "    # (user_test)cluster 수 및 cluster별 인원 수 저장하는 list\n",
    "    length = [1]*cluster_num\n",
    "    for i in range(cluster_num):\n",
    "        length[i] = sum(user_item_test[\"cluster\"] == i)\n",
    "    #length.append(user_test[\"cluster\"].value_counts())\n",
    "    #print(length)\n",
    "\n",
    "    clusters = []\n",
    "\n",
    "    # user-item 정보 클러스터 별로 저장\n",
    "    for i in range(len(length)):\n",
    "        clusters.append(cluster_user_matrix[cluster_user_matrix[\"cluster\"]==i])\n",
    "        \n",
    "        '''\n",
    "    sum_point_idx = []\n",
    "    for i in range(len(length)):\n",
    "        sum_point_idx.append(i)\n",
    "        '''\n",
    "    \n",
    "    # predict 저장할 DataFrame\n",
    "    sum_point = pd.DataFrame(index=range(0, cluster_num, 1), columns = cluster_user_matrix.columns).fillna(0)\n",
    "\n",
    "    for i in range(cluster_num):\n",
    "        # clusters[i] = clusters[i].replace({'0':np.nan, 0:np.nan})\n",
    "        #sum_point.loc[i] = clusters[i].max(axis=0, skipna=True)\n",
    "        sum_point.loc[i] = clusters[i].mean(axis=0, skipna=True)\n",
    "    \n",
    "    sum_point = sum_point.replace({np.nan:0})\n",
    "\n",
    "    #point = sum_point[sum_point.index < len(length)]\n",
    "    \n",
    "    \n",
    "    ## scores -> y_pred // tmp => y_true\n",
    "\n",
    "    y_pred = sum_point.drop([\"cluster\"], axis=1)\n",
    "    cluster_user_matrix.drop([\"mean\"], axis=1)\n",
    "\n",
    "    # 정답 셋\n",
    "    y_true = pd.DataFrame(columns = user_item_test.columns)\n",
    "    y_true[\"num\"] = np.nan\n",
    "\n",
    "    # 정답 셋 정보 할당\n",
    "    for i in user_item_test.index:\n",
    "        idx = 0\n",
    "        while idx < len(length):\n",
    "            if user_item_test[\"cluster\"][i] == idx:\n",
    "                y_true.loc[i] = user_item_test.loc[i]\n",
    "                y_true[\"num\"][i] = idx\n",
    "            idx += 1\n",
    "\n",
    "    number = pd.DataFrame(y_true[\"num\"])\n",
    "\n",
    "    # 평가\n",
    "    y_true = y_true.drop([\"mean\",\"cluster\",\"num\"], axis=1)\n",
    "\n",
    "    # miss matching 제거\n",
    "    for i in y_pred.columns:\n",
    "        if i not in y_true.columns:\n",
    "            y_pred = y_pred.drop([i], axis=1)\n",
    "\n",
    "    for i in y_true.columns:\n",
    "        if i not in y_pred.columns:\n",
    "            y_true = y_true.drop([i], axis=1)\n",
    "        \n",
    "    # ndcg\n",
    "    result = []\n",
    "    for i in range(len(length)):\n",
    "        result.append(0)\n",
    "\n",
    "    for i in y_true.index:\n",
    "        idx = 0\n",
    "\n",
    "        while idx < len(length):\n",
    "            if number[\"num\"][i] == idx:\n",
    "                result[idx] += ndcg_score([y_true.loc[i]], [y_pred.loc[idx]])\n",
    "            idx += 1\n",
    "\n",
    "    for i in range(len(length)):\n",
    "        if length[i] >0:\n",
    "            result[i] = result[i]/length[i]\n",
    "        else:\n",
    "            result[i] = 0\n",
    "\n",
    "    print('%.5f'%(sum(result)/(len(length))))\n",
    "    #print(\"cluster수:\",len(length),\"/ NDCG:\",'%.5f'%(sum(result)/(len(length))))"
   ]
  },
  {
   "cell_type": "code",
   "execution_count": 13,
   "id": "0646f0eb",
   "metadata": {},
   "outputs": [
    {
     "name": "stdout",
     "output_type": "stream",
     "text": [
      "cluster num :  2  ->  [453, 490]\n",
      "0.40556\n",
      "cluster num :  3  ->  [599, 301, 43]\n",
      "0.40210\n",
      "cluster num :  4  ->  [603, 14, 306, 20]\n",
      "0.39816\n",
      "cluster num :  5  ->  [280, 3, 381, 27, 252]\n",
      "0.38693\n",
      "cluster num :  6  ->  [256, 57, 375, 247, 1, 7]\n",
      "0.38248\n",
      "cluster num :  7  ->  [1, 12, 216, 382, 247, 72, 13]\n",
      "0.37633\n",
      "cluster num :  8  ->  [21, 1, 238, 225, 79, 343, 3, 33]\n",
      "0.39838\n",
      "cluster num :  9  ->  [226, 251, 339, 11, 11, 1, 70, 30, 4]\n",
      "0.39897\n",
      "cluster num :  10  ->  [2, 10, 244, 356, 223, 19, 34, 25, 29, 1]\n",
      "0.36383\n",
      "cluster num :  11  ->  [80, 6, 320, 6, 26, 17, 179, 2, 90, 4, 213]\n",
      "0.39452\n",
      "cluster num :  12  ->  [38, 314, 224, 207, 85, 5, 1, 6, 31, 18, 11, 3]\n",
      "0.38406\n",
      "cluster num :  13  ->  [21, 47, 218, 175, 2, 1, 95, 8, 209, 142, 22, 2, 1]\n",
      "0.36133\n",
      "cluster num :  14  ->  [266, 2, 174, 205, 24, 1, 96, 1, 43, 11, 66, 10, 43, 1]\n",
      "0.39195\n",
      "cluster num :  15  ->  [319, 16, 29, 167, 40, 45, 200, 37, 8, 45, 25, 2, 7, 1, 2]\n",
      "0.39290\n",
      "cluster num :  16  ->  [113, 2, 1, 244, 122, 23, 15, 180, 5, 46, 9, 82, 9, 48, 38, 6]\n",
      "0.38540\n",
      "cluster num :  17  ->  [38, 13, 235, 44, 1, 176, 9, 4, 75, 91, 4, 192, 5, 24, 26, 6, 0]\n",
      "0.37143\n",
      "cluster num :  18  ->  [275, 14, 47, 86, 5, 12, 6, 189, 6, 165, 26, 49, 36, 1, 7, 12, 5, 2]\n",
      "0.37151\n",
      "cluster num :  19  ->  [161, 259, 10, 24, 47, 1, 9, 11, 42, 21, 196, 41, 70, 16, 11, 1, 7, 2, 14]\n",
      "0.37886\n",
      "cluster num :  20  ->  [6, 3, 7, 300, 12, 180, 51, 10, 4, 165, 10, 4, 62, 11, 24, 46, 3, 36, 1, 8]\n",
      "0.37195\n",
      "cluster num :  21  ->  [274, 144, 1, 135, 23, 25, 12, 32, 42, 62, 32, 17, 32, 6, 35, 46, 1, 14, 1, 8, 1]\n",
      "0.38521\n",
      "cluster num :  22  ->  [117, 1, 20, 35, 137, 151, 3, 209, 52, 35, 1, 3, 15, 2, 1, 71, 8, 7, 14, 14, 25, 22]\n",
      "0.38564\n",
      "cluster num :  23  ->  [1, 41, 262, 50, 32, 15, 8, 5, 165, 138, 11, 13, 14, 8, 1, 10, 19, 28, 30, 5, 34, 52, 1]\n",
      "0.38139\n",
      "cluster num :  24  ->  [2, 260, 32, 15, 43, 1, 74, 33, 8, 31, 14, 3, 6, 52, 7, 16, 135, 141, 1, 25, 14, 11, 17, 2]\n",
      "0.37811\n",
      "cluster num :  25  ->  [9, 1, 4, 213, 55, 118, 86, 126, 36, 1, 71, 29, 8, 34, 2, 9, 11, 43, 26, 8, 3, 5, 16, 6, 23]\n",
      "0.39119\n",
      "cluster num :  26  ->  [209, 21, 10, 154, 44, 3, 8, 2, 3, 14, 126, 11, 24, 17, 3, 24, 122, 8, 7, 18, 2, 12, 88, 8, 5, 0]\n",
      "0.36000\n",
      "cluster num :  27  ->  [1, 12, 70, 6, 15, 9, 17, 2, 11, 239, 9, 8, 8, 78, 12, 151, 135, 29, 4, 18, 25, 43, 7, 18, 0, 10, 6]\n",
      "0.36229\n",
      "cluster num :  28  ->  [4, 197, 105, 4, 22, 2, 40, 10, 8, 139, 7, 45, 69, 1, 11, 0, 11, 5, 11, 47, 8, 9, 149, 4, 13, 12, 9, 1]\n",
      "0.35917\n",
      "cluster num :  29  ->  [79, 235, 21, 7, 3, 3, 129, 4, 1, 9, 3, 45, 11, 11, 14, 165, 15, 25, 16, 14, 6, 4, 55, 15, 12, 11, 19, 5, 6]\n",
      "0.35659\n",
      "cluster num :  30  ->  [123, 104, 11, 22, 15, 40, 190, 3, 14, 36, 83, 3, 2, 18, 6, 44, 8, 11, 15, 64, 22, 26, 15, 1, 10, 4, 43, 8, 1, 1]\n",
      "0.37956\n",
      "cluster num :  31  ->  [4, 41, 2, 4, 235, 13, 88, 10, 29, 32, 26, 9, 7, 14, 2, 45, 6, 10, 17, 6, 24, 143, 93, 10, 36, 16, 7, 6, 1, 7, 0]\n",
      "0.35789\n",
      "cluster num :  32  ->  [191, 60, 125, 29, 2, 53, 8, 15, 22, 105, 10, 96, 26, 5, 17, 10, 2, 20, 6, 14, 17, 27, 22, 18, 4, 6, 12, 1, 7, 3, 9, 1]\n",
      "0.37140\n",
      "cluster num :  33  ->  [33, 7, 1, 233, 26, 22, 6, 51, 11, 137, 2, 12, 34, 10, 106, 2, 30, 6, 11, 4, 71, 10, 31, 6, 4, 24, 14, 17, 4, 8, 5, 1, 4]\n",
      "0.38168\n",
      "cluster num :  34  ->  [39, 7, 1, 1, 188, 9, 15, 25, 45, 23, 90, 8, 130, 85, 4, 16, 30, 8, 9, 20, 60, 11, 10, 27, 5, 9, 16, 1, 8, 8, 5, 25, 4, 1]\n",
      "0.37532\n",
      "cluster num :  35  ->  [102, 5, 15, 12, 27, 18, 53, 24, 15, 58, 7, 247, 1, 34, 9, 7, 2, 8, 4, 6, 24, 13, 119, 18, 23, 7, 3, 22, 19, 30, 5, 1, 1, 1, 3]\n",
      "0.36933\n",
      "cluster num :  36  ->  [35, 19, 23, 21, 14, 79, 110, 232, 21, 14, 10, 1, 1, 19, 9, 25, 9, 6, 8, 16, 21, 41, 24, 3, 76, 7, 2, 40, 8, 9, 28, 4, 2, 3, 2, 1]\n",
      "0.38742\n",
      "cluster num :  37  ->  [5, 8, 178, 12, 109, 1, 1, 0, 4, 43, 15, 49, 14, 31, 7, 36, 5, 12, 122, 94, 24, 1, 6, 9, 18, 5, 21, 22, 37, 9, 8, 15, 4, 8, 1, 4, 5]\n",
      "0.35886\n",
      "cluster num :  38  ->  [7, 176, 13, 87, 6, 38, 10, 6, 8, 1, 25, 121, 11, 53, 16, 5, 31, 83, 2, 6, 4, 24, 5, 1, 3, 19, 9, 10, 1, 79, 9, 20, 23, 13, 1, 13, 4, 0]\n",
      "0.37215\n",
      "cluster num :  39  ->  [209, 12, 15, 22, 20, 25, 11, 7, 100, 54, 1, 15, 7, 6, 1, 79, 29, 4, 45, 7, 24, 2, 1, 59, 8, 6, 10, 35, 23, 3, 19, 5, 13, 10, 14, 13, 3, 15, 11]\n",
      "0.38300\n",
      "cluster num :  40  ->  [18, 179, 11, 10, 5, 10, 11, 100, 1, 6, 13, 106, 70, 2, 11, 4, 45, 21, 3, 4, 35, 5, 14, 20, 5, 33, 46, 29, 21, 9, 6, 43, 4, 1, 17, 5, 6, 2, 11, 1]\n",
      "0.36713\n",
      "cluster num :  41  ->  [30, 112, 7, 21, 1, 96, 9, 157, 2, 6, 6, 59, 3, 1, 30, 64, 30, 16, 15, 10, 109, 2, 8, 13, 13, 4, 1, 10, 13, 41, 9, 3, 4, 12, 4, 10, 2, 5, 1, 3, 1]\n",
      "0.37873\n",
      "cluster num :  42  ->  [20, 0, 101, 4, 6, 13, 1, 10, 5, 16, 44, 15, 66, 7, 8, 185, 33, 5, 16, 27, 33, 11, 3, 6, 20, 1, 58, 95, 13, 3, 10, 5, 21, 26, 7, 2, 6, 20, 13, 4, 1, 3]\n",
      "0.36261\n",
      "cluster num :  43  ->  [41, 6, 77, 24, 11, 8, 5, 110, 167, 31, 26, 8, 19, 2, 22, 94, 1, 51, 10, 15, 17, 1, 3, 8, 40, 7, 11, 6, 26, 6, 2, 9, 11, 7, 12, 5, 16, 4, 3, 11, 7, 2, 1]\n",
      "0.37090\n",
      "cluster num :  44  ->  [19, 211, 6, 95, 23, 10, 15, 12, 12, 8, 17, 65, 28, 2, 71, 17, 7, 1, 1, 2, 3, 10, 30, 20, 8, 47, 31, 12, 50, 1, 3, 2, 14, 20, 12, 6, 10, 10, 9, 6, 5, 8, 3, 1]\n",
      "0.36519\n",
      "cluster num :  45  ->  [35, 4, 1, 28, 6, 97, 8, 17, 2, 6, 53, 5, 37, 48, 9, 1, 2, 14, 13, 39, 154, 78, 19, 82, 10, 4, 18, 12, 5, 2, 1, 3, 3, 7, 25, 7, 4, 8, 31, 1, 9, 7, 9, 4, 15]\n",
      "0.36897\n",
      "cluster num :  46  ->  [18, 61, 5, 3, 15, 20, 5, 11, 150, 12, 5, 22, 1, 12, 98, 35, 1, 13, 13, 3, 46, 65, 14, 6, 99, 2, 6, 11, 3, 1, 10, 3, 13, 4, 8, 3, 10, 70, 6, 20, 4, 8, 5, 22, 1, 0]\n",
      "0.36911\n",
      "cluster num :  47  ->  [2, 2, 94, 160, 8, 8, 89, 34, 2, 8, 44, 76, 23, 53, 18, 1, 27, 12, 15, 2, 23, 5, 8, 1, 9, 1, 6, 14, 11, 1, 16, 51, 2, 16, 26, 2, 9, 3, 4, 6, 5, 7, 5, 9, 6, 13, 6]\n",
      "0.37195\n",
      "cluster num :  48  ->  [76, 77, 18, 5, 48, 89, 6, 144, 11, 19, 15, 6, 2, 13, 44, 49, 1, 5, 11, 14, 2, 39, 8, 29, 5, 1, 3, 2, 3, 10, 27, 8, 6, 9, 7, 7, 7, 2, 8, 5, 2, 16, 33, 1, 11, 26, 6, 7]\n",
      "0.37102\n",
      "cluster num :  49  ->  [152, 7, 1, 8, 77, 4, 11, 86, 45, 54, 17, 72, 8, 7, 12, 31, 13, 4, 1, 1, 11, 1, 35, 7, 26, 5, 5, 4, 31, 7, 16, 7, 4, 3, 6, 17, 22, 11, 27, 19, 2, 8, 7, 3, 13, 13, 18, 2, 2]\n",
      "0.37371\n",
      "cluster num :  50  ->  [60, 33, 17, 6, 92, 1, 139, 1, 5, 103, 4, 14, 4, 21, 38, 25, 15, 4, 2, 29, 4, 17, 7, 5, 1, 2, 22, 9, 9, 7, 3, 8, 6, 3, 0, 4, 37, 11, 19, 42, 7, 26, 3, 10, 4, 18, 8, 19, 17, 2]\n",
      "0.36362\n"
     ]
    }
   ],
   "source": [
    "import pandas as pd\n",
    "from sklearn import preprocessing\n",
    "from sklearn.preprocessing import MinMaxScaler\n",
    "import numpy as np\n",
    "\n",
    "cluster_num = range(2,51)\n",
    "#cluster_num = [2]\n",
    "\n",
    "for i in cluster_num:\n",
    "    grs(i, user_item_total, user_item_train)"
   ]
  },
  {
   "cell_type": "code",
   "execution_count": 14,
   "id": "3e21c7d9",
   "metadata": {},
   "outputs": [
    {
     "data": {
      "image/png": "[encoded data removed]",
      "text/plain": [
       "<Figure size 648x432 with 1 Axes>"
      ]
     },
     "metadata": {
      "needs_background": "light"
     },
     "output_type": "display_data"
    }
   ],
   "source": [
    "plt.figure(figsize=(9,6))\n",
    "plt.plot(coverage_list, 'ob--', label='coverage')\n",
    "plt.plot(performance_list, 'or--', label='performance')\n",
    "plt.legend(fontsize=15)\n",
    "plt.show()"
   ]
  },
  {
   "cell_type": "code",
   "execution_count": null,
   "id": "f881aaad",
   "metadata": {},
   "outputs": [],
   "source": []
  }
 ],
 "metadata": {
  "kernelspec": {
   "display_name": "Python 3 (ipykernel)",
   "language": "python",
   "name": "python3"
  },
  "language_info": {
   "codemirror_mode": {
    "name": "ipython",
    "version": 3
   },
   "file_extension": ".py",
   "mimetype": "text/x-python",
   "name": "python",
   "nbconvert_exporter": "python",
   "pygments_lexer": "ipython3",
   "version": "3.9.12"
  }
 },
 "nbformat": 4,
 "nbformat_minor": 5
}
