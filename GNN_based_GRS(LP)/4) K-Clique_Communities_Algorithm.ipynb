{
 "cells": [
  {
   "cell_type": "code",
   "execution_count": 1,
   "id": "11a95f50",
   "metadata": {},
   "outputs": [],
   "source": [
    "from networkx.algorithms import bipartite\n",
    "import networkx as nx\n",
    "from networkx import *\n",
    "import pandas as pd\n",
    "import matplotlib.pyplot as plt\n",
    "from sklearn.preprocessing import MinMaxScaler"
   ]
  },
  {
   "cell_type": "code",
   "execution_count": 2,
   "id": "d06650c7",
   "metadata": {},
   "outputs": [],
   "source": [
    "# 80000row\n",
    "user_train = pd.read_csv('ml-100k/u5.base', sep='\\t',names=[\"userID\",\"itemID\",\"rating\",\"timestamp\"],header=None, na_filter=False)\n",
    "user_train = user_train[['userID','itemID','rating']]\n",
    "\n",
    "# 100000row\n",
    "user_total = pd.read_csv('ml-100k/u.data', sep='\\t',names=[\"userID\",\"itemID\",\"rating\",\"timestamp\"],header=None, na_filter=False)\n",
    "user_total = user_total[['userID','itemID','rating']]\n",
    "\n",
    "# 20000row\n",
    "user_test = pd.read_csv('ml-100k/u5.test', sep='\\t',names=[\"userID\",\"itemID\",\"rating\",\"timestamp\"],header=None, na_filter=False)\n",
    "user_test = user_test[['userID','itemID','rating']]\n"
   ]
  },
  {
   "cell_type": "code",
   "execution_count": 3,
   "id": "b553dfab",
   "metadata": {},
   "outputs": [
    {
     "data": {
      "text/plain": [
       "\"\\nmin_max_scaler = MinMaxScaler()\\n\\nx_scaled = min_max_scaler.fit_transform(user_train[['rating']])\\nuser_train[['rating']] = x_scaled\\n\\nx_scaled = min_max_scaler.fit_transform(user_total[['rating']])\\nuser_total[['rating']] = x_scaled\\n\\nx_scaled = min_max_scaler.fit_transform(user_test[['rating']])\\nuser_test [['rating']] = x_scaled\\n\""
      ]
     },
     "execution_count": 3,
     "metadata": {},
     "output_type": "execute_result"
    }
   ],
   "source": [
    "'''\n",
    "min_max_scaler = MinMaxScaler()\n",
    "\n",
    "x_scaled = min_max_scaler.fit_transform(user_train[['rating']])\n",
    "user_train[['rating']] = x_scaled\n",
    "\n",
    "x_scaled = min_max_scaler.fit_transform(user_total[['rating']])\n",
    "user_total[['rating']] = x_scaled\n",
    "\n",
    "x_scaled = min_max_scaler.fit_transform(user_test[['rating']])\n",
    "user_test [['rating']] = x_scaled\n",
    "'''"
   ]
  },
  {
   "cell_type": "code",
   "execution_count": 4,
   "id": "9a999b64",
   "metadata": {},
   "outputs": [],
   "source": [
    "user_item_total = user_total.pivot_table('rating', index = 'userID',columns = 'itemID').fillna(0)\n",
    "user_item_train = user_train.pivot_table('rating', index = 'userID',columns = 'itemID').fillna(0) # train 용\n",
    "user_item_test = user_test.pivot_table('rating', index = 'userID',columns = 'itemID').fillna(0)\n",
    "\n",
    "total_user_idx = user_item_total.index"
   ]
  },
  {
   "cell_type": "code",
   "execution_count": 5,
   "id": "1271a2b2",
   "metadata": {},
   "outputs": [
    {
     "data": {
      "text/html": [
       "<div>\n",
       "<style scoped>\n",
       "    .dataframe tbody tr th:only-of-type {\n",
       "        vertical-align: middle;\n",
       "    }\n",
       "\n",
       "    .dataframe tbody tr th {\n",
       "        vertical-align: top;\n",
       "    }\n",
       "\n",
       "    .dataframe thead th {\n",
       "        text-align: right;\n",
       "    }\n",
       "</style>\n",
       "<table border=\"1\" class=\"dataframe\">\n",
       "  <thead>\n",
       "    <tr style=\"text-align: right;\">\n",
       "      <th></th>\n",
       "      <th>userID</th>\n",
       "      <th>itemID</th>\n",
       "      <th>rating</th>\n",
       "      <th>timestamp</th>\n",
       "    </tr>\n",
       "  </thead>\n",
       "  <tbody>\n",
       "    <tr>\n",
       "      <th>0</th>\n",
       "      <td>u196</td>\n",
       "      <td>i242</td>\n",
       "      <td>3</td>\n",
       "      <td>881250949</td>\n",
       "    </tr>\n",
       "    <tr>\n",
       "      <th>1</th>\n",
       "      <td>u186</td>\n",
       "      <td>i302</td>\n",
       "      <td>3</td>\n",
       "      <td>891717742</td>\n",
       "    </tr>\n",
       "    <tr>\n",
       "      <th>2</th>\n",
       "      <td>u22</td>\n",
       "      <td>i377</td>\n",
       "      <td>1</td>\n",
       "      <td>878887116</td>\n",
       "    </tr>\n",
       "    <tr>\n",
       "      <th>3</th>\n",
       "      <td>u244</td>\n",
       "      <td>i51</td>\n",
       "      <td>2</td>\n",
       "      <td>880606923</td>\n",
       "    </tr>\n",
       "    <tr>\n",
       "      <th>4</th>\n",
       "      <td>u166</td>\n",
       "      <td>i346</td>\n",
       "      <td>1</td>\n",
       "      <td>886397596</td>\n",
       "    </tr>\n",
       "    <tr>\n",
       "      <th>...</th>\n",
       "      <td>...</td>\n",
       "      <td>...</td>\n",
       "      <td>...</td>\n",
       "      <td>...</td>\n",
       "    </tr>\n",
       "    <tr>\n",
       "      <th>99995</th>\n",
       "      <td>u880</td>\n",
       "      <td>i476</td>\n",
       "      <td>3</td>\n",
       "      <td>880175444</td>\n",
       "    </tr>\n",
       "    <tr>\n",
       "      <th>99996</th>\n",
       "      <td>u716</td>\n",
       "      <td>i204</td>\n",
       "      <td>5</td>\n",
       "      <td>879795543</td>\n",
       "    </tr>\n",
       "    <tr>\n",
       "      <th>99997</th>\n",
       "      <td>u276</td>\n",
       "      <td>i1090</td>\n",
       "      <td>1</td>\n",
       "      <td>874795795</td>\n",
       "    </tr>\n",
       "    <tr>\n",
       "      <th>99998</th>\n",
       "      <td>u13</td>\n",
       "      <td>i225</td>\n",
       "      <td>2</td>\n",
       "      <td>882399156</td>\n",
       "    </tr>\n",
       "    <tr>\n",
       "      <th>99999</th>\n",
       "      <td>u12</td>\n",
       "      <td>i203</td>\n",
       "      <td>3</td>\n",
       "      <td>879959583</td>\n",
       "    </tr>\n",
       "  </tbody>\n",
       "</table>\n",
       "<p>100000 rows × 4 columns</p>\n",
       "</div>"
      ],
      "text/plain": [
       "      userID itemID  rating  timestamp\n",
       "0       u196   i242       3  881250949\n",
       "1       u186   i302       3  891717742\n",
       "2        u22   i377       1  878887116\n",
       "3       u244    i51       2  880606923\n",
       "4       u166   i346       1  886397596\n",
       "...      ...    ...     ...        ...\n",
       "99995   u880   i476       3  880175444\n",
       "99996   u716   i204       5  879795543\n",
       "99997   u276  i1090       1  874795795\n",
       "99998    u13   i225       2  882399156\n",
       "99999    u12   i203       3  879959583\n",
       "\n",
       "[100000 rows x 4 columns]"
      ]
     },
     "execution_count": 5,
     "metadata": {},
     "output_type": "execute_result"
    }
   ],
   "source": [
    "## user-item node 이름 설정\n",
    "\n",
    "matrix = pd.read_csv('ml-100k/u.data', sep='\\t',names=[\"userID\",\"itemID\",\"rating\",\"timestamp\"],header=None, na_filter=False)\n",
    "matrix[['userID']] = 'u' + matrix[['userID']].astype(str)\n",
    "matrix[['itemID']] = 'i' + matrix[['itemID']].astype(str)\n",
    "matrix"
   ]
  },
  {
   "cell_type": "code",
   "execution_count": 6,
   "id": "1cc200c3",
   "metadata": {},
   "outputs": [
    {
     "data": {
      "text/html": [
       "<div>\n",
       "<style scoped>\n",
       "    .dataframe tbody tr th:only-of-type {\n",
       "        vertical-align: middle;\n",
       "    }\n",
       "\n",
       "    .dataframe tbody tr th {\n",
       "        vertical-align: top;\n",
       "    }\n",
       "\n",
       "    .dataframe thead th {\n",
       "        text-align: right;\n",
       "    }\n",
       "</style>\n",
       "<table border=\"1\" class=\"dataframe\">\n",
       "  <thead>\n",
       "    <tr style=\"text-align: right;\">\n",
       "      <th></th>\n",
       "      <th>userID</th>\n",
       "      <th>itemID</th>\n",
       "      <th>rating</th>\n",
       "      <th>timestamp</th>\n",
       "    </tr>\n",
       "  </thead>\n",
       "  <tbody>\n",
       "    <tr>\n",
       "      <th>0</th>\n",
       "      <td>u196</td>\n",
       "      <td>i242</td>\n",
       "      <td>3</td>\n",
       "      <td>881250949</td>\n",
       "    </tr>\n",
       "    <tr>\n",
       "      <th>1</th>\n",
       "      <td>u186</td>\n",
       "      <td>i302</td>\n",
       "      <td>3</td>\n",
       "      <td>891717742</td>\n",
       "    </tr>\n",
       "    <tr>\n",
       "      <th>2</th>\n",
       "      <td>u22</td>\n",
       "      <td>i377</td>\n",
       "      <td>1</td>\n",
       "      <td>878887116</td>\n",
       "    </tr>\n",
       "    <tr>\n",
       "      <th>3</th>\n",
       "      <td>u244</td>\n",
       "      <td>i51</td>\n",
       "      <td>2</td>\n",
       "      <td>880606923</td>\n",
       "    </tr>\n",
       "    <tr>\n",
       "      <th>4</th>\n",
       "      <td>u166</td>\n",
       "      <td>i346</td>\n",
       "      <td>1</td>\n",
       "      <td>886397596</td>\n",
       "    </tr>\n",
       "    <tr>\n",
       "      <th>...</th>\n",
       "      <td>...</td>\n",
       "      <td>...</td>\n",
       "      <td>...</td>\n",
       "      <td>...</td>\n",
       "    </tr>\n",
       "    <tr>\n",
       "      <th>99995</th>\n",
       "      <td>u880</td>\n",
       "      <td>i476</td>\n",
       "      <td>3</td>\n",
       "      <td>880175444</td>\n",
       "    </tr>\n",
       "    <tr>\n",
       "      <th>99996</th>\n",
       "      <td>u716</td>\n",
       "      <td>i204</td>\n",
       "      <td>5</td>\n",
       "      <td>879795543</td>\n",
       "    </tr>\n",
       "    <tr>\n",
       "      <th>99997</th>\n",
       "      <td>u276</td>\n",
       "      <td>i1090</td>\n",
       "      <td>1</td>\n",
       "      <td>874795795</td>\n",
       "    </tr>\n",
       "    <tr>\n",
       "      <th>99998</th>\n",
       "      <td>u13</td>\n",
       "      <td>i225</td>\n",
       "      <td>2</td>\n",
       "      <td>882399156</td>\n",
       "    </tr>\n",
       "    <tr>\n",
       "      <th>99999</th>\n",
       "      <td>u12</td>\n",
       "      <td>i203</td>\n",
       "      <td>3</td>\n",
       "      <td>879959583</td>\n",
       "    </tr>\n",
       "  </tbody>\n",
       "</table>\n",
       "<p>100000 rows × 4 columns</p>\n",
       "</div>"
      ],
      "text/plain": [
       "      userID itemID  rating  timestamp\n",
       "0       u196   i242       3  881250949\n",
       "1       u186   i302       3  891717742\n",
       "2        u22   i377       1  878887116\n",
       "3       u244    i51       2  880606923\n",
       "4       u166   i346       1  886397596\n",
       "...      ...    ...     ...        ...\n",
       "99995   u880   i476       3  880175444\n",
       "99996   u716   i204       5  879795543\n",
       "99997   u276  i1090       1  874795795\n",
       "99998    u13   i225       2  882399156\n",
       "99999    u12   i203       3  879959583\n",
       "\n",
       "[100000 rows x 4 columns]"
      ]
     },
     "execution_count": 6,
     "metadata": {},
     "output_type": "execute_result"
    }
   ],
   "source": [
    "## user-item node 이름 설정\n",
    "\n",
    "matrix = pd.read_csv('ml-100k/u.data', sep='\\t',names=[\"userID\",\"itemID\",\"rating\",\"timestamp\"],header=None, na_filter=False)\n",
    "matrix[['userID']] = 'u' + matrix[['userID']].astype(str)\n",
    "matrix[['itemID']] = 'i' + matrix[['itemID']].astype(str)\n",
    "matrix"
   ]
  },
  {
   "cell_type": "code",
   "execution_count": 7,
   "id": "ae8d57f0",
   "metadata": {},
   "outputs": [],
   "source": [
    "import numpy as np\n",
    "user_node = matrix[['userID']].values\n",
    "user_node = np.array(user_node).flatten().tolist()\n",
    "#user_node"
   ]
  },
  {
   "cell_type": "code",
   "execution_count": 8,
   "id": "d9e78760",
   "metadata": {},
   "outputs": [
    {
     "name": "stderr",
     "output_type": "stream",
     "text": [
      "C:\\Users\\kddin\\AppData\\Local\\Temp\\ipykernel_11704\\1259828340.py:3: DeprecationWarning: info is deprecated and will be removed in version 3.0.\n",
      "\n",
      "  info(G)\n"
     ]
    },
    {
     "data": {
      "text/plain": [
       "'Graph with 943 nodes and 0 edges'"
      ]
     },
     "execution_count": 8,
     "metadata": {},
     "output_type": "execute_result"
    }
   ],
   "source": [
    "G = nx.Graph()\n",
    "G.add_nodes_from(user_node)\n",
    "info(G)"
   ]
  },
  {
   "cell_type": "code",
   "execution_count": 9,
   "id": "90aba5c3",
   "metadata": {},
   "outputs": [
    {
     "name": "stderr",
     "output_type": "stream",
     "text": [
      "C:\\Users\\kddin\\AppData\\Local\\Temp\\ipykernel_11704\\700776426.py:11: DeprecationWarning: info is deprecated and will be removed in version 3.0.\n",
      "\n",
      "  info(B)\n"
     ]
    },
    {
     "data": {
      "text/plain": [
       "'Graph with 2625 nodes and 100000 edges'"
      ]
     },
     "execution_count": 9,
     "metadata": {},
     "output_type": "execute_result"
    }
   ],
   "source": [
    "edgelist = []\n",
    "\n",
    "for i in matrix.values:\n",
    "    edgelist.append((i[0],i[1]))\n",
    "    \n",
    "B = nx.Graph() # >300\n",
    "B.add_nodes_from(matrix.userID, bipartite=0) # user\n",
    "B.add_nodes_from(matrix.itemID, bipartite=1) # item(movie)\n",
    "B.add_edges_from(edgelist)\n",
    "\n",
    "info(B)"
   ]
  },
  {
   "cell_type": "markdown",
   "id": "4c4b8186",
   "metadata": {},
   "source": [
    "## Link Prediction\n",
    "\n",
    " 전체 그래프에서 상위 1%의 연결 가능성을 해당하는 link connection"
   ]
  },
  {
   "cell_type": "code",
   "execution_count": 10,
   "id": "1fecd414",
   "metadata": {},
   "outputs": [
    {
     "name": "stderr",
     "output_type": "stream",
     "text": [
      "C:\\Users\\kddin\\AppData\\Local\\Temp\\ipykernel_11704\\1209186748.py:9: DeprecationWarning: the `interpolation=` argument to percentile was renamed to `method=`, which has additional options.\n",
      "Users of the modes 'nearest', 'lower', 'higher', or 'midpoint' are encouraged to review the method they. (Deprecated NumPy 1.22)\n",
      "  link_99 = np.percentile(link_likelihood,  99.5, interpolation='linear')\n"
     ]
    },
    {
     "name": "stdout",
     "output_type": "stream",
     "text": [
      "total_graph connected :  True  user graph info :  Graph with 2625 nodes and 116425 edges\n",
      "user_graph connected :  False  user graph info :  Graph with 943 nodes and 8702 edges\n"
     ]
    },
    {
     "name": "stderr",
     "output_type": "stream",
     "text": [
      "C:\\Users\\kddin\\AppData\\Local\\Temp\\ipykernel_11704\\1209186748.py:25: DeprecationWarning: info is deprecated and will be removed in version 3.0.\n",
      "\n",
      "  print('total_graph connected : ', is_connected(B),' user graph info : ', info(B))\n",
      "C:\\Users\\kddin\\AppData\\Local\\Temp\\ipykernel_11704\\1209186748.py:26: DeprecationWarning: info is deprecated and will be removed in version 3.0.\n",
      "\n",
      "  print('user_graph connected : ', is_connected(G),' user graph info : ', info(G))\n"
     ]
    }
   ],
   "source": [
    "for i in range(10):\n",
    "    \n",
    "    user_edgelist = []\n",
    "    total_edgelist = []\n",
    "    \n",
    "    pred_link = list(nx.common_neighbor_centrality(B, alpha=0.8))\n",
    "    \n",
    "    link_likelihood = pd.DataFrame(pred_link).iloc[:,2].values\n",
    "    link_99 = np.percentile(link_likelihood,  99.5, interpolation='linear')\n",
    "    \n",
    "    for p in pred_link:\n",
    "        edge = list(p)\n",
    "        linklihood = int(edge[2])\n",
    "        \n",
    "        if linklihood > link_99:\n",
    "            if edge[0][:1] ==  edge[1][:1] == 'u': # user R\n",
    "                user_edgelist.append((edge[0], edge[1]))\n",
    "                total_edgelist.append((edge[0], edge[1]))\n",
    "            else :\n",
    "                total_edgelist.append((edge[0], edge[1]))\n",
    "                \n",
    "    B.add_edges_from(total_edgelist)\n",
    "    G.add_edges_from(user_edgelist)\n",
    "    \n",
    "    print('total_graph connected : ', is_connected(B),' user graph info : ', info(B))\n",
    "    print('user_graph connected : ', is_connected(G),' user graph info : ', info(G))\n",
    "    \n",
    "    if is_connected(B):\n",
    "        break\n",
    "    \n",
    "#print('total graph: ', info(B))\n",
    "#print('user_graph connected : ', is_connected(G),' user graph info : ', info(G))"
   ]
  },
  {
   "cell_type": "markdown",
   "id": "575bc3db",
   "metadata": {},
   "source": [
    "## Graph Clustering"
   ]
  },
  {
   "cell_type": "code",
   "execution_count": 11,
   "id": "7fd51148",
   "metadata": {},
   "outputs": [],
   "source": [
    "from networkx.algorithms.community import k_clique_communities\n",
    "from networkx.algorithms.community import coverage, performance\n",
    "\n",
    "cluster = []\n",
    "total_graph = B"
   ]
  },
  {
   "cell_type": "code",
   "execution_count": 12,
   "id": "4e2221e9",
   "metadata": {},
   "outputs": [],
   "source": [
    "communities = k_clique_communities(total_graph, k=8)"
   ]
  },
  {
   "cell_type": "code",
   "execution_count": 13,
   "id": "64b6b2cf",
   "metadata": {},
   "outputs": [],
   "source": [
    "node_groups = []"
   ]
  },
  {
   "cell_type": "code",
   "execution_count": null,
   "id": "494f6a58",
   "metadata": {},
   "outputs": [],
   "source": [
    "for com in next(communities):\n",
    "    node_groups.append(list(com))\n",
    "    \n",
    "print(node_groups)"
   ]
  },
  {
   "cell_type": "code",
   "execution_count": null,
   "id": "1e11958a",
   "metadata": {},
   "outputs": [],
   "source": []
  },
  {
   "cell_type": "code",
   "execution_count": null,
   "id": "b0a02ca2",
   "metadata": {},
   "outputs": [],
   "source": []
  },
  {
   "cell_type": "code",
   "execution_count": null,
   "id": "b354116e",
   "metadata": {},
   "outputs": [],
   "source": []
  },
  {
   "cell_type": "code",
   "execution_count": null,
   "id": "4e328539",
   "metadata": {},
   "outputs": [],
   "source": []
  },
  {
   "cell_type": "code",
   "execution_count": null,
   "id": "79b1c018",
   "metadata": {},
   "outputs": [],
   "source": [
    "comp = k_clique_communities(total_graph,k=3)"
   ]
  },
  {
   "cell_type": "code",
   "execution_count": null,
   "id": "f5d576e2",
   "metadata": {},
   "outputs": [],
   "source": [
    "result = {frozenset(c) for c in comp}"
   ]
  },
  {
   "cell_type": "code",
   "execution_count": null,
   "id": "009cc6e8",
   "metadata": {},
   "outputs": [],
   "source": [
    "reulst"
   ]
  },
  {
   "cell_type": "code",
   "execution_count": null,
   "id": "279a4d68",
   "metadata": {},
   "outputs": [],
   "source": [
    "len(result)"
   ]
  },
  {
   "cell_type": "code",
   "execution_count": null,
   "id": "f74e4846",
   "metadata": {},
   "outputs": [],
   "source": []
  },
  {
   "cell_type": "code",
   "execution_count": null,
   "id": "369cc0de",
   "metadata": {},
   "outputs": [],
   "source": []
  }
 ],
 "metadata": {
  "kernelspec": {
   "display_name": "Python 3 (ipykernel)",
   "language": "python",
   "name": "python3"
  },
  "language_info": {
   "codemirror_mode": {
    "name": "ipython",
    "version": 3
   },
   "file_extension": ".py",
   "mimetype": "text/x-python",
   "name": "python",
   "nbconvert_exporter": "python",
   "pygments_lexer": "ipython3",
   "version": "3.9.12"
  }
 },
 "nbformat": 4,
 "nbformat_minor": 5
}
