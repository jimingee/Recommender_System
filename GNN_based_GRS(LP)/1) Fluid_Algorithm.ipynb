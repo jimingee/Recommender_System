{
 "cells": [
  {
   "cell_type": "markdown",
   "id": "3455eeb1",
   "metadata": {},
   "source": [
    "## Fluid_Algorithm\n",
    "\n",
    "Parés F., Garcia-Gasulla D. et al. “Fluid Communities: A Competitive and Highly Scalable Community Detection Algorithm”."
   ]
  },
  {
   "cell_type": "code",
   "execution_count": 1,
   "id": "73166f4a",
   "metadata": {},
   "outputs": [],
   "source": [
    "from networkx.algorithms import bipartite\n",
    "import networkx as nx\n",
    "from networkx import *\n",
    "import pandas as pd\n",
    "import numpy as np\n",
    "import matplotlib.pyplot as plt\n",
    "from sklearn.preprocessing import MinMaxScaler"
   ]
  },
  {
   "cell_type": "code",
   "execution_count": 2,
   "id": "fd6a91ac",
   "metadata": {},
   "outputs": [],
   "source": [
    "# 80000row\n",
    "user_train = pd.read_csv('ml-100k/u1.base', sep='\\t',names=[\"userID\",\"itemID\",\"rating\",\"timestamp\"],header=None, na_filter=False)\n",
    "user_train = user_train[['userID','itemID','rating']]\n",
    "\n",
    "# 100000row\n",
    "user_total = pd.read_csv('ml-100k/u.data', sep='\\t',names=[\"userID\",\"itemID\",\"rating\",\"timestamp\"],header=None, na_filter=False)\n",
    "user_total = user_total[['userID','itemID','rating']]\n",
    "\n",
    "# 20000row\n",
    "user_test = pd.read_csv('ml-100k/u1.test', sep='\\t',names=[\"userID\",\"itemID\",\"rating\",\"timestamp\"],header=None, na_filter=False)\n",
    "user_test = user_test[['userID','itemID','rating']]\n"
   ]
  },
  {
   "cell_type": "code",
   "execution_count": 3,
   "id": "1d10036b",
   "metadata": {},
   "outputs": [
    {
     "data": {
      "text/plain": [
       "\"\\nmin_max_scaler = MinMaxScaler()\\n\\nx_scaled = min_max_scaler.fit_transform(user_train[['rating']])\\nuser_train[['rating']] = x_scaled\\n\\nx_scaled = min_max_scaler.fit_transform(user_total[['rating']])\\nuser_total[['rating']] = x_scaled\\n\\nx_scaled = min_max_scaler.fit_transform(user_test[['rating']])\\nuser_test [['rating']] = x_scaled\\n\""
      ]
     },
     "execution_count": 3,
     "metadata": {},
     "output_type": "execute_result"
    }
   ],
   "source": [
    "'''\n",
    "min_max_scaler = MinMaxScaler()\n",
    "\n",
    "x_scaled = min_max_scaler.fit_transform(user_train[['rating']])\n",
    "user_train[['rating']] = x_scaled\n",
    "\n",
    "x_scaled = min_max_scaler.fit_transform(user_total[['rating']])\n",
    "user_total[['rating']] = x_scaled\n",
    "\n",
    "x_scaled = min_max_scaler.fit_transform(user_test[['rating']])\n",
    "user_test [['rating']] = x_scaled\n",
    "'''"
   ]
  },
  {
   "cell_type": "code",
   "execution_count": 4,
   "id": "137c3dd9",
   "metadata": {},
   "outputs": [],
   "source": [
    "user_item_total = user_total.pivot_table('rating', index = 'userID',columns = 'itemID').fillna(0)\n",
    "user_item_train = user_train.pivot_table('rating', index = 'userID',columns = 'itemID').fillna(0)\n",
    "user_item_test = user_test.pivot_table('rating', index = 'userID',columns = 'itemID').fillna(0)\n",
    "\n",
    "total_user_idx = user_item_total.index"
   ]
  },
  {
   "cell_type": "code",
   "execution_count": 5,
   "id": "c2bd618d",
   "metadata": {},
   "outputs": [
    {
     "data": {
      "text/html": [
       "<div>\n",
       "<style scoped>\n",
       "    .dataframe tbody tr th:only-of-type {\n",
       "        vertical-align: middle;\n",
       "    }\n",
       "\n",
       "    .dataframe tbody tr th {\n",
       "        vertical-align: top;\n",
       "    }\n",
       "\n",
       "    .dataframe thead th {\n",
       "        text-align: right;\n",
       "    }\n",
       "</style>\n",
       "<table border=\"1\" class=\"dataframe\">\n",
       "  <thead>\n",
       "    <tr style=\"text-align: right;\">\n",
       "      <th></th>\n",
       "      <th>userID</th>\n",
       "      <th>itemID</th>\n",
       "      <th>rating</th>\n",
       "      <th>timestamp</th>\n",
       "    </tr>\n",
       "  </thead>\n",
       "  <tbody>\n",
       "    <tr>\n",
       "      <th>0</th>\n",
       "      <td>u196</td>\n",
       "      <td>i242</td>\n",
       "      <td>3</td>\n",
       "      <td>881250949</td>\n",
       "    </tr>\n",
       "    <tr>\n",
       "      <th>1</th>\n",
       "      <td>u186</td>\n",
       "      <td>i302</td>\n",
       "      <td>3</td>\n",
       "      <td>891717742</td>\n",
       "    </tr>\n",
       "    <tr>\n",
       "      <th>2</th>\n",
       "      <td>u22</td>\n",
       "      <td>i377</td>\n",
       "      <td>1</td>\n",
       "      <td>878887116</td>\n",
       "    </tr>\n",
       "    <tr>\n",
       "      <th>3</th>\n",
       "      <td>u244</td>\n",
       "      <td>i51</td>\n",
       "      <td>2</td>\n",
       "      <td>880606923</td>\n",
       "    </tr>\n",
       "    <tr>\n",
       "      <th>4</th>\n",
       "      <td>u166</td>\n",
       "      <td>i346</td>\n",
       "      <td>1</td>\n",
       "      <td>886397596</td>\n",
       "    </tr>\n",
       "    <tr>\n",
       "      <th>...</th>\n",
       "      <td>...</td>\n",
       "      <td>...</td>\n",
       "      <td>...</td>\n",
       "      <td>...</td>\n",
       "    </tr>\n",
       "    <tr>\n",
       "      <th>99995</th>\n",
       "      <td>u880</td>\n",
       "      <td>i476</td>\n",
       "      <td>3</td>\n",
       "      <td>880175444</td>\n",
       "    </tr>\n",
       "    <tr>\n",
       "      <th>99996</th>\n",
       "      <td>u716</td>\n",
       "      <td>i204</td>\n",
       "      <td>5</td>\n",
       "      <td>879795543</td>\n",
       "    </tr>\n",
       "    <tr>\n",
       "      <th>99997</th>\n",
       "      <td>u276</td>\n",
       "      <td>i1090</td>\n",
       "      <td>1</td>\n",
       "      <td>874795795</td>\n",
       "    </tr>\n",
       "    <tr>\n",
       "      <th>99998</th>\n",
       "      <td>u13</td>\n",
       "      <td>i225</td>\n",
       "      <td>2</td>\n",
       "      <td>882399156</td>\n",
       "    </tr>\n",
       "    <tr>\n",
       "      <th>99999</th>\n",
       "      <td>u12</td>\n",
       "      <td>i203</td>\n",
       "      <td>3</td>\n",
       "      <td>879959583</td>\n",
       "    </tr>\n",
       "  </tbody>\n",
       "</table>\n",
       "<p>100000 rows × 4 columns</p>\n",
       "</div>"
      ],
      "text/plain": [
       "      userID itemID  rating  timestamp\n",
       "0       u196   i242       3  881250949\n",
       "1       u186   i302       3  891717742\n",
       "2        u22   i377       1  878887116\n",
       "3       u244    i51       2  880606923\n",
       "4       u166   i346       1  886397596\n",
       "...      ...    ...     ...        ...\n",
       "99995   u880   i476       3  880175444\n",
       "99996   u716   i204       5  879795543\n",
       "99997   u276  i1090       1  874795795\n",
       "99998    u13   i225       2  882399156\n",
       "99999    u12   i203       3  879959583\n",
       "\n",
       "[100000 rows x 4 columns]"
      ]
     },
     "execution_count": 5,
     "metadata": {},
     "output_type": "execute_result"
    }
   ],
   "source": [
    "## user-item node 이름 설정\n",
    "matrix = pd.read_csv('ml-100k/u.data', sep='\\t',names=[\"userID\",\"itemID\",\"rating\",\"timestamp\"],header=None, na_filter=False)\n",
    "matrix[['userID']] = 'u' + matrix[['userID']].astype(str)\n",
    "matrix[['itemID']] = 'i' + matrix[['itemID']].astype(str)\n",
    "matrix"
   ]
  },
  {
   "cell_type": "markdown",
   "id": "efa6a668",
   "metadata": {},
   "source": [
    "### 그래프 생성\n",
    "\n",
    "#### G : user로만 이루어진 그래프  /  B : user, item으로 이루어진 그래프"
   ]
  },
  {
   "cell_type": "code",
   "execution_count": 6,
   "id": "95902d4d",
   "metadata": {},
   "outputs": [],
   "source": [
    "user_node = matrix[['userID']].values\n",
    "user_node = np.array(user_node).flatten().tolist()\n",
    "#user_node"
   ]
  },
  {
   "cell_type": "code",
   "execution_count": 7,
   "id": "c3325052",
   "metadata": {},
   "outputs": [
    {
     "name": "stderr",
     "output_type": "stream",
     "text": [
      "C:\\Users\\kddin\\AppData\\Local\\Temp\\ipykernel_6508\\1259828340.py:3: DeprecationWarning: info is deprecated and will be removed in version 3.0.\n",
      "\n",
      "  info(G)\n"
     ]
    },
    {
     "data": {
      "text/plain": [
       "'Graph with 943 nodes and 0 edges'"
      ]
     },
     "execution_count": 7,
     "metadata": {},
     "output_type": "execute_result"
    }
   ],
   "source": [
    "G = nx.Graph()\n",
    "G.add_nodes_from(user_node)\n",
    "info(G)"
   ]
  },
  {
   "cell_type": "code",
   "execution_count": 8,
   "id": "da03e55e",
   "metadata": {},
   "outputs": [
    {
     "name": "stderr",
     "output_type": "stream",
     "text": [
      "C:\\Users\\kddin\\AppData\\Local\\Temp\\ipykernel_6508\\700776426.py:11: DeprecationWarning: info is deprecated and will be removed in version 3.0.\n",
      "\n",
      "  info(B)\n"
     ]
    },
    {
     "data": {
      "text/plain": [
       "'Graph with 2625 nodes and 100000 edges'"
      ]
     },
     "execution_count": 8,
     "metadata": {},
     "output_type": "execute_result"
    }
   ],
   "source": [
    "edgelist = []\n",
    "\n",
    "for i in matrix.values:\n",
    "    edgelist.append((i[0],i[1]))\n",
    "    \n",
    "B = nx.Graph() # >300\n",
    "B.add_nodes_from(matrix.userID, bipartite=0) # user\n",
    "B.add_nodes_from(matrix.itemID, bipartite=1) # item(movie)\n",
    "B.add_edges_from(edgelist)\n",
    "\n",
    "info(B)"
   ]
  },
  {
   "cell_type": "markdown",
   "id": "1fdd47d1",
   "metadata": {},
   "source": [
    "###  Link Prediction으로 상위 0.5 % 가능성을 가진  edge 생성\n",
    "\n",
    "common_neighbor_centrality(2020) 알고리즘 사용\n",
    "\n",
    "* uesr graph 연결될 수 있는 최대 edge 개수 444153 [ = 943*942/2 ]\n",
    "* total graph 연결될 수 있는 최대 edge 개수 3444000 [ = 2625*2624/2 ]"
   ]
  },
  {
   "cell_type": "code",
   "execution_count": null,
   "id": "d5cef68f",
   "metadata": {
    "scrolled": true
   },
   "outputs": [],
   "source": [
    "for i in range(10):\n",
    "    \n",
    "    user_edgelist = []\n",
    "    total_edgelist = []\n",
    "    \n",
    "    pred_link = list(nx.common_neighbor_centrality(B, alpha=0.8))\n",
    "    \n",
    "    link_likelihood = pd.DataFrame(pred_link).iloc[:,2].values\n",
    "    link_99 = np.percentile(link_likelihood,  99.5, interpolation='linear')\n",
    "    \n",
    "    for p in pred_link:\n",
    "        edge = list(p)\n",
    "        linklihood = int(edge[2])\n",
    "        \n",
    "        if linklihood > link_99:\n",
    "            if edge[0][:1] ==  edge[1][:1] == 'u': # user R\n",
    "                user_edgelist.append((edge[0], edge[1]))\n",
    "                total_edgelist.append((edge[0], edge[1]))\n",
    "            else :\n",
    "                total_edgelist.append((edge[0], edge[1]))\n",
    "                \n",
    "    B.add_edges_from(total_edgelist)\n",
    "    G.add_edges_from(user_edgelist)\n",
    "    \n",
    "    print('total_graph connected : ', is_connected(B),' user graph info : ', info(B))\n",
    "    print('user_graph connected : ', is_connected(G),' user graph info : ', info(G))\n",
    "    \n",
    "    ## total graph가 다 연결될 때 까지 반복\n",
    "    if is_connected(B):\n",
    "        break\n",
    "    \n",
    "#print('total graph: ', info(B))\n",
    "#print('user_graph connected : ', is_connected(G),' user graph info : ', info(G))"
   ]
  },
  {
   "cell_type": "markdown",
   "id": "ffaaf20e",
   "metadata": {},
   "source": [
    "###  Graph Clustering\n",
    "\n",
    "\n",
    "변수명 설명\n",
    "* cluster : 각 그룹 넘버와 그룹에 해당되는 user, item 리스트\n",
    "* [return] user_c : 각 user 당 해당하는 cluster number\n"
   ]
  },
  {
   "cell_type": "code",
   "execution_count": null,
   "id": "d2727c7c",
   "metadata": {},
   "outputs": [],
   "source": [
    "## network clustering\n",
    "from networkx.algorithms.community import asyn_fluidc\n",
    "from networkx.algorithms.community import coverage, performance\n",
    "\n",
    "coverage_list, performance_list = [], [] \n",
    "\n",
    "def graph_clustering(cluster_num):\n",
    "    cluster = [0] * cluster_num\n",
    "    total_graph = B\n",
    "    \n",
    "    community = list(asyn_fluidc(total_graph, k=cluster_num))\n",
    "    \n",
    "    for i, comms in enumerate(community):\n",
    "        cluster[i] = comms\n",
    "        \n",
    "    coverage_list.append(coverage(total_graph, community))\n",
    "    performance_list.append(performance(total_graph, community))\n",
    "\n",
    "                \n",
    "    ## user cluster 정보\n",
    "    user_c = pd.read_csv('ml-100k/u.user', sep='|',names=[\"userID\",\"age\",\"gender\",\"occupation\",\"zip code\"],header=None,na_filter=False)\n",
    "    user_c = user_c[['userID']]\n",
    "    user_c = user_c.set_index('userID')\n",
    "    user_c['cluster'] = 999\n",
    "    \n",
    "    \n",
    "    cluster_cnt = [] # 각 cluster에 속한 user의 수 \n",
    "    \n",
    "    # 각 user와 cluster matching\n",
    "    for i in range(cluster_num):\n",
    "        cnt = 0\n",
    "        \n",
    "        for j in list(cluster[i]):\n",
    "            if j[0] == 'u':\n",
    "                cnt += 1\n",
    "                user_c.iloc[int(j[1:])-1] = i \n",
    "                \n",
    "        cluster_cnt.append(cnt)\n",
    "            \n",
    "    # 각 클러스터당 user의 인원 수\n",
    "    #print('cluster num : ', cluster_num, \" -> \",cluster_cnt) \n",
    "    #print(user_c)\n",
    "    \n",
    "    return (user_c)\n",
    "        "
   ]
  },
  {
   "cell_type": "markdown",
   "id": "b48ccc47",
   "metadata": {},
   "source": [
    "###  Group Recommender System"
   ]
  },
  {
   "cell_type": "code",
   "execution_count": null,
   "id": "5fec5538",
   "metadata": {},
   "outputs": [],
   "source": [
    "import numpy as np\n",
    "from sklearn.metrics import ndcg_score\n",
    "\n",
    "def grs(cluster_num, default_matrix,  save_rating):\n",
    "    \n",
    "    user_item_total = default_matrix\n",
    "    user_item_train = save_rating\n",
    "    kcluster = graph_clustering(cluster_num) # userID - cluster\n",
    "    \n",
    "    #AVG용 - user_item_train 에 user의 rating 평균값 열 추가\n",
    "    user_item_train[\"mean\"] = user_item_train.mean(axis=1)\n",
    "    # user_item_test 에 user의 rating 평균값 열 추가\n",
    "    user_item_test[\"mean\"] = user_item_test.mean(axis=1)\n",
    "    \n",
    "    \n",
    "    #train, test셋에 cluster 할당\n",
    "    cluster = user_item_train \n",
    "    cluster[\"cluster\"] = np.nan # train\n",
    "    user_item_test[\"cluster\"] = np.nan # test\n",
    "\n",
    "    \n",
    "    # test set에 할당\n",
    "    for i in kcluster.index:\n",
    "        if i in cluster.index:\n",
    "            cluster[\"cluster\"][i] = kcluster[\"cluster\"][i] # train\n",
    "        if i in user_item_test.index:\n",
    "            user_item_test[\"cluster\"][i] = kcluster[\"cluster\"][i] # test\n",
    "\n",
    "    cluster_user_matrix = pd.DataFrame(cluster)\n",
    "\n",
    "    # (user_test)cluster 수 및 cluster별 인원 수 저장하는 list\n",
    "    length = [1]*cluster_num\n",
    "    for i in range(cluster_num):\n",
    "        length[i] = sum(user_item_test[\"cluster\"] == i)\n",
    "    #length.append(user_test[\"cluster\"].value_counts())\n",
    "    #print(length)\n",
    "\n",
    "    clusters = []\n",
    "\n",
    "    # user-item 정보 클러스터 별로 저장\n",
    "    for i in range(len(length)):\n",
    "        clusters.append(cluster_user_matrix[cluster_user_matrix[\"cluster\"]==i])\n",
    "        \n",
    "        '''\n",
    "    sum_point_idx = []\n",
    "    for i in range(len(length)):\n",
    "        sum_point_idx.append(i)\n",
    "        '''\n",
    "    \n",
    "    # predict 저장할 DataFrame\n",
    "    sum_point = pd.DataFrame(index=range(0, cluster_num, 1), columns = cluster_user_matrix.columns).fillna(0)\n",
    "\n",
    "    for i in range(cluster_num):\n",
    "        # clusters[i] = clusters[i].replace({'0':np.nan, 0:np.nan})\n",
    "        #sum_point.loc[i] = clusters[i].max(axis=0, skipna=True)\n",
    "        sum_point.loc[i] = clusters[i].mean(axis=0, skipna=True)\n",
    "    \n",
    "    sum_point = sum_point.replace({np.nan:0})\n",
    "\n",
    "    #point = sum_point[sum_point.index < len(length)]\n",
    "    \n",
    "    \n",
    "    ## scores -> y_pred // tmp => y_true\n",
    "\n",
    "    y_pred = sum_point.drop([\"cluster\"], axis=1)\n",
    "    cluster_user_matrix.drop([\"mean\"], axis=1)\n",
    "\n",
    "    # 정답 셋\n",
    "    y_true = pd.DataFrame(columns = user_item_test.columns)\n",
    "    y_true[\"num\"] = np.nan\n",
    "\n",
    "    # 정답 셋 정보 할당\n",
    "    for i in user_item_test.index:\n",
    "        idx = 0\n",
    "        while idx < len(length):\n",
    "            if user_item_test[\"cluster\"][i] == idx:\n",
    "                y_true.loc[i] = user_item_test.loc[i]\n",
    "                y_true[\"num\"][i] = idx\n",
    "            idx += 1\n",
    "\n",
    "    number = pd.DataFrame(y_true[\"num\"])\n",
    "\n",
    "    # 평가\n",
    "    y_true = y_true.drop([\"mean\",\"cluster\",\"num\"], axis=1)\n",
    "\n",
    "    # miss matching 제거\n",
    "    for i in y_pred.columns:\n",
    "        if i not in y_true.columns:\n",
    "            y_pred = y_pred.drop([i], axis=1)\n",
    "\n",
    "    for i in y_true.columns:\n",
    "        if i not in y_pred.columns:\n",
    "            y_true = y_true.drop([i], axis=1)\n",
    "        \n",
    "    # ndcg\n",
    "    result = []\n",
    "    for i in range(len(length)):\n",
    "        result.append(0)\n",
    "\n",
    "    for i in y_true.index:\n",
    "        idx = 0\n",
    "\n",
    "        while idx < len(length):\n",
    "            if number[\"num\"][i] == idx:\n",
    "                result[idx] += ndcg_score([y_true.loc[i]], [y_pred.loc[idx]])\n",
    "            idx += 1\n",
    "\n",
    "    for i in range(len(length)):\n",
    "        if length[i] >0:\n",
    "            result[i] = result[i]/length[i]\n",
    "        else:\n",
    "            result[i] = 0\n",
    "\n",
    "    print('%.5f'%(sum(result)/(len(length))))\n",
    "    #print(\"cluster수:\",len(length),\"/ NDCG:\",'%.5f'%(sum(result)/(len(length))))"
   ]
  },
  {
   "cell_type": "code",
   "execution_count": null,
   "id": "0646f0eb",
   "metadata": {},
   "outputs": [],
   "source": [
    "import pandas as pd\n",
    "from sklearn import preprocessing\n",
    "from sklearn.preprocessing import MinMaxScaler\n",
    "import numpy as np\n",
    "\n",
    "cluster_num = range(2,51)\n",
    "#cluster_num = [2]\n",
    "\n",
    "for i in cluster_num:\n",
    "    grs(i, user_item_total, user_item_train)"
   ]
  },
  {
   "cell_type": "code",
   "execution_count": null,
   "id": "3e21c7d9",
   "metadata": {},
   "outputs": [],
   "source": [
    "plt.figure(figsize=(9,6))\n",
    "plt.plot(coverage_list, 'ob--', label='coverage')\n",
    "plt.plot(performance_list, 'or--', label='performance')\n",
    "plt.legend(fontsize=15)\n",
    "plt.show()"
   ]
  },
  {
   "cell_type": "code",
   "execution_count": null,
   "id": "f881aaad",
   "metadata": {},
   "outputs": [],
   "source": []
  }
 ],
 "metadata": {
  "kernelspec": {
   "display_name": "Python 3 (ipykernel)",
   "language": "python",
   "name": "python3"
  },
  "language_info": {
   "codemirror_mode": {
    "name": "ipython",
    "version": 3
   },
   "file_extension": ".py",
   "mimetype": "text/x-python",
   "name": "python",
   "nbconvert_exporter": "python",
   "pygments_lexer": "ipython3",
   "version": "3.9.12"
  }
 },
 "nbformat": 4,
 "nbformat_minor": 5
}
