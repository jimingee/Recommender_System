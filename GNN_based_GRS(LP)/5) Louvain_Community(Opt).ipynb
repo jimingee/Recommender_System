{
 "cells": [
  {
   "cell_type": "code",
   "execution_count": 4,
   "id": "1f0c2013",
   "metadata": {},
   "outputs": [],
   "source": [
    "from networkx.algorithms import bipartite\n",
    "import networkx as nx\n",
    "from networkx import *\n",
    "import pandas as pd\n",
    "import numpy as np\n",
    "import matplotlib.pyplot as plt\n",
    "from sklearn.preprocessing import MinMaxScaler\n",
    "import warnings\n",
    "warnings.filterwarnings(\"ignore\")"
   ]
  },
  {
   "cell_type": "code",
   "execution_count": 5,
   "id": "635b9de6",
   "metadata": {},
   "outputs": [],
   "source": [
    "# 80000row\n",
    "user_train = pd.read_csv('ml-100k/u5.base', sep='\\t',names=[\"userID\",\"itemID\",\"rating\",\"timestamp\"],header=None, na_filter=False)\n",
    "user_train = user_train[['userID','itemID','rating']]\n",
    "\n",
    "# 100000row\n",
    "user_total = pd.read_csv('ml-100k/u.data', sep='\\t',names=[\"userID\",\"itemID\",\"rating\",\"timestamp\"],header=None, na_filter=False)\n",
    "user_total = user_total[['userID','itemID','rating']]\n",
    "\n",
    "# 20000row\n",
    "user_test = pd.read_csv('ml-100k/u5.test', sep='\\t',names=[\"userID\",\"itemID\",\"rating\",\"timestamp\"],header=None, na_filter=False)\n",
    "user_test = user_test[['userID','itemID','rating']]\n"
   ]
  },
  {
   "cell_type": "code",
   "execution_count": 6,
   "id": "a1131569",
   "metadata": {},
   "outputs": [
    {
     "data": {
      "text/plain": [
       "\"\\nmin_max_scaler = MinMaxScaler()\\n\\nx_scaled = min_max_scaler.fit_transform(user_train[['rating']])\\nuser_train[['rating']] = x_scaled\\n\\nx_scaled = min_max_scaler.fit_transform(user_total[['rating']])\\nuser_total[['rating']] = x_scaled\\n\\nx_scaled = min_max_scaler.fit_transform(user_test[['rating']])\\nuser_test [['rating']] = x_scaled\\n\""
      ]
     },
     "execution_count": 6,
     "metadata": {},
     "output_type": "execute_result"
    }
   ],
   "source": [
    "'''\n",
    "min_max_scaler = MinMaxScaler()\n",
    "\n",
    "x_scaled = min_max_scaler.fit_transform(user_train[['rating']])\n",
    "user_train[['rating']] = x_scaled\n",
    "\n",
    "x_scaled = min_max_scaler.fit_transform(user_total[['rating']])\n",
    "user_total[['rating']] = x_scaled\n",
    "\n",
    "x_scaled = min_max_scaler.fit_transform(user_test[['rating']])\n",
    "user_test [['rating']] = x_scaled\n",
    "'''"
   ]
  },
  {
   "cell_type": "code",
   "execution_count": 7,
   "id": "862d1cba",
   "metadata": {},
   "outputs": [],
   "source": [
    "user_item_total = user_total.pivot_table('rating', index = 'userID',columns = 'itemID').fillna(0)\n",
    "user_item_train = user_train.pivot_table('rating', index = 'userID',columns = 'itemID').fillna(0) # train 용\n",
    "user_item_test = user_test.pivot_table('rating', index = 'userID',columns = 'itemID').fillna(0)"
   ]
  },
  {
   "cell_type": "code",
   "execution_count": 8,
   "id": "e4abcfef",
   "metadata": {},
   "outputs": [
    {
     "data": {
      "text/html": [
       "<div>\n",
       "<style scoped>\n",
       "    .dataframe tbody tr th:only-of-type {\n",
       "        vertical-align: middle;\n",
       "    }\n",
       "\n",
       "    .dataframe tbody tr th {\n",
       "        vertical-align: top;\n",
       "    }\n",
       "\n",
       "    .dataframe thead th {\n",
       "        text-align: right;\n",
       "    }\n",
       "</style>\n",
       "<table border=\"1\" class=\"dataframe\">\n",
       "  <thead>\n",
       "    <tr style=\"text-align: right;\">\n",
       "      <th></th>\n",
       "      <th>userID</th>\n",
       "      <th>itemID</th>\n",
       "      <th>rating</th>\n",
       "      <th>timestamp</th>\n",
       "    </tr>\n",
       "  </thead>\n",
       "  <tbody>\n",
       "    <tr>\n",
       "      <th>0</th>\n",
       "      <td>u196</td>\n",
       "      <td>i242</td>\n",
       "      <td>3</td>\n",
       "      <td>881250949</td>\n",
       "    </tr>\n",
       "    <tr>\n",
       "      <th>1</th>\n",
       "      <td>u186</td>\n",
       "      <td>i302</td>\n",
       "      <td>3</td>\n",
       "      <td>891717742</td>\n",
       "    </tr>\n",
       "    <tr>\n",
       "      <th>2</th>\n",
       "      <td>u22</td>\n",
       "      <td>i377</td>\n",
       "      <td>1</td>\n",
       "      <td>878887116</td>\n",
       "    </tr>\n",
       "    <tr>\n",
       "      <th>3</th>\n",
       "      <td>u244</td>\n",
       "      <td>i51</td>\n",
       "      <td>2</td>\n",
       "      <td>880606923</td>\n",
       "    </tr>\n",
       "    <tr>\n",
       "      <th>4</th>\n",
       "      <td>u166</td>\n",
       "      <td>i346</td>\n",
       "      <td>1</td>\n",
       "      <td>886397596</td>\n",
       "    </tr>\n",
       "    <tr>\n",
       "      <th>...</th>\n",
       "      <td>...</td>\n",
       "      <td>...</td>\n",
       "      <td>...</td>\n",
       "      <td>...</td>\n",
       "    </tr>\n",
       "    <tr>\n",
       "      <th>99995</th>\n",
       "      <td>u880</td>\n",
       "      <td>i476</td>\n",
       "      <td>3</td>\n",
       "      <td>880175444</td>\n",
       "    </tr>\n",
       "    <tr>\n",
       "      <th>99996</th>\n",
       "      <td>u716</td>\n",
       "      <td>i204</td>\n",
       "      <td>5</td>\n",
       "      <td>879795543</td>\n",
       "    </tr>\n",
       "    <tr>\n",
       "      <th>99997</th>\n",
       "      <td>u276</td>\n",
       "      <td>i1090</td>\n",
       "      <td>1</td>\n",
       "      <td>874795795</td>\n",
       "    </tr>\n",
       "    <tr>\n",
       "      <th>99998</th>\n",
       "      <td>u13</td>\n",
       "      <td>i225</td>\n",
       "      <td>2</td>\n",
       "      <td>882399156</td>\n",
       "    </tr>\n",
       "    <tr>\n",
       "      <th>99999</th>\n",
       "      <td>u12</td>\n",
       "      <td>i203</td>\n",
       "      <td>3</td>\n",
       "      <td>879959583</td>\n",
       "    </tr>\n",
       "  </tbody>\n",
       "</table>\n",
       "<p>100000 rows × 4 columns</p>\n",
       "</div>"
      ],
      "text/plain": [
       "      userID itemID  rating  timestamp\n",
       "0       u196   i242       3  881250949\n",
       "1       u186   i302       3  891717742\n",
       "2        u22   i377       1  878887116\n",
       "3       u244    i51       2  880606923\n",
       "4       u166   i346       1  886397596\n",
       "...      ...    ...     ...        ...\n",
       "99995   u880   i476       3  880175444\n",
       "99996   u716   i204       5  879795543\n",
       "99997   u276  i1090       1  874795795\n",
       "99998    u13   i225       2  882399156\n",
       "99999    u12   i203       3  879959583\n",
       "\n",
       "[100000 rows x 4 columns]"
      ]
     },
     "execution_count": 8,
     "metadata": {},
     "output_type": "execute_result"
    }
   ],
   "source": [
    "## user-item node 이름 설정\n",
    "matrix = pd.read_csv('ml-100k/u.data', sep='\\t',names=[\"userID\",\"itemID\",\"rating\",\"timestamp\"],header=None, na_filter=False)\n",
    "matrix[['userID']] = 'u' + matrix[['userID']].astype(str)\n",
    "matrix[['itemID']] = 'i' + matrix[['itemID']].astype(str)\n",
    "matrix"
   ]
  },
  {
   "cell_type": "markdown",
   "id": "7e17e438",
   "metadata": {},
   "source": [
    "### 그래프 생성\n",
    "\n",
    "#### G : user로만 이루어진 그래프  /  B : user, item으로 이루어진 그래프"
   ]
  },
  {
   "cell_type": "code",
   "execution_count": 9,
   "id": "4bbd3770",
   "metadata": {},
   "outputs": [],
   "source": [
    "user_node = matrix[['userID']].values\n",
    "user_node = np.array(user_node).flatten().tolist()\n",
    "#user_node"
   ]
  },
  {
   "cell_type": "code",
   "execution_count": 10,
   "id": "199b1a3e",
   "metadata": {},
   "outputs": [
    {
     "data": {
      "text/plain": [
       "'Graph with 943 nodes and 0 edges'"
      ]
     },
     "execution_count": 10,
     "metadata": {},
     "output_type": "execute_result"
    }
   ],
   "source": [
    "G = nx.Graph()\n",
    "G.add_nodes_from(user_node)\n",
    "info(G)"
   ]
  },
  {
   "cell_type": "code",
   "execution_count": 11,
   "id": "6f0907a9",
   "metadata": {},
   "outputs": [
    {
     "data": {
      "text/plain": [
       "'Graph with 2625 nodes and 100000 edges'"
      ]
     },
     "execution_count": 11,
     "metadata": {},
     "output_type": "execute_result"
    }
   ],
   "source": [
    "edgelist = []\n",
    "\n",
    "for i in matrix.values:\n",
    "    edgelist.append((i[0],i[1]))\n",
    "    \n",
    "B = nx.Graph() # >300\n",
    "B.add_nodes_from(matrix.userID, bipartite=0) # user\n",
    "B.add_nodes_from(matrix.itemID, bipartite=1) # item(movie)\n",
    "B.add_edges_from(edgelist)\n",
    "\n",
    "info(B)"
   ]
  },
  {
   "cell_type": "markdown",
   "id": "a5497d34",
   "metadata": {},
   "source": [
    "###  Link Prediction으로 상위 0.5 % 가능성을 가진  edge 생성\n"
   ]
  },
  {
   "cell_type": "code",
   "execution_count": 12,
   "id": "d8a22bbe",
   "metadata": {},
   "outputs": [
    {
     "name": "stdout",
     "output_type": "stream",
     "text": [
      "total_graph connected :  True  user graph info :  Graph with 2625 nodes and 116425 edges\n",
      "user_graph connected :  False  user graph info :  Graph with 943 nodes and 8702 edges\n"
     ]
    }
   ],
   "source": [
    "for i in range(10):\n",
    "    \n",
    "    user_edgelist = []\n",
    "    total_edgelist = []\n",
    "    \n",
    "    pred_link = list(nx.common_neighbor_centrality(B, alpha=0.8))\n",
    "    \n",
    "    link_likelihood = pd.DataFrame(pred_link).iloc[:,2].values\n",
    "    link_99 = np.percentile(link_likelihood,  99.5, interpolation='linear')\n",
    "    \n",
    "    for p in pred_link:\n",
    "        edge = list(p)\n",
    "        linklihood = int(edge[2])\n",
    "        \n",
    "        if linklihood > link_99:\n",
    "            if edge[0][:1] ==  edge[1][:1] == 'u': # user R\n",
    "                user_edgelist.append((edge[0], edge[1]))\n",
    "                total_edgelist.append((edge[0], edge[1]))\n",
    "            else :\n",
    "                total_edgelist.append((edge[0], edge[1]))\n",
    "                \n",
    "    B.add_edges_from(total_edgelist)\n",
    "    G.add_edges_from(user_edgelist)\n",
    "    \n",
    "    print('total_graph connected : ', is_connected(B),' user graph info : ', info(B))\n",
    "    print('user_graph connected : ', is_connected(G),' user graph info : ', info(G))\n",
    "    \n",
    "    if is_connected(B):\n",
    "        break\n",
    "    \n",
    "#print('total graph: ', info(B))\n",
    "#print('user_graph connected : ', is_connected(G),' user graph info : ', info(G))"
   ]
  },
  {
   "cell_type": "markdown",
   "id": "47c89e00",
   "metadata": {},
   "source": [
    "###  Graph Clustering\n",
    "\n",
    "\n",
    "변수명 설명\n",
    "* cluster : 각 그룹 넘버와 그룹에 해당되는 user, item 리스트\n",
    "* [return] user_c : 각 user 당 해당하는 cluster number"
   ]
  },
  {
   "cell_type": "code",
   "execution_count": 17,
   "id": "716b5b0b",
   "metadata": {},
   "outputs": [],
   "source": [
    "## network clustering\n",
    "from networkx.algorithms.community import louvain_communities\n",
    "from networkx.algorithms.community import coverage, performance\n",
    "\n",
    "coverage_list, performance_list = [], [] \n",
    "\n",
    "def graph_clustering():\n",
    "    total_graph = B\n",
    "    \n",
    "    community = list(louvain_communities(total_graph))\n",
    "    cluster = [0] * len(community)\n",
    "    \n",
    "    \n",
    "    for i, comms in enumerate(community):\n",
    "        cluster[i] = comms\n",
    "        \n",
    "    coverage_list.append(coverage(total_graph, community))\n",
    "    performance_list.append(performance(total_graph, community))\n",
    "                \n",
    "    ## user cluster 정보\n",
    "    cluster_id = pd.read_csv('ml-100k/u.user', sep='|',names=[\"userID\",\"age\",\"gender\",\"occupation\",\"zip code\"],header=None,na_filter=False)\n",
    "    cluster_id = cluster_id[['userID']]\n",
    "    cluster_id= cluster_id.set_index('userID')\n",
    "    cluster_id['cluster'] = 999\n",
    "\n",
    "    cluster_cnt = [] # 각 cluster에 속한 user의 수 \n",
    "    \n",
    "    # 각 user와 cluster matching\n",
    "    for i in range(len(cluster)):\n",
    "        cnt = 0\n",
    "        \n",
    "        for j in list(cluster[i]):\n",
    "            if j[0] == 'u':\n",
    "                cnt += 1\n",
    "                cluster_id.iloc[int(j[1:])-1] = i \n",
    "                \n",
    "        cluster_cnt.append(cnt)\n",
    "            \n",
    "    # 각 클러스터당 user의 인원 수\n",
    "    #print('cluster num : ', cluster_num, \" -> \",cluster_cnt) \n",
    "    #print(user_c)\n",
    "    \n",
    "    return (len(cluster), cluster_id)\n",
    "        "
   ]
  },
  {
   "cell_type": "code",
   "execution_count": 18,
   "id": "3e8bc98d",
   "metadata": {},
   "outputs": [],
   "source": [
    "import numpy as np\n",
    "from sklearn.metrics import ndcg_score\n",
    "\n",
    "def grs_ndcg(total_matrix, train_matrix):\n",
    "    total_matrix  # user_item_total \n",
    "    train_matrix  # user_item_train\n",
    "    test_matrix = user_item_test\n",
    "    \n",
    "    ## 1. fluid algorithm으로 그룹 clustering(total 대상)\n",
    "    num, cluster_id = graph_clustering()\n",
    "    \n",
    "    # 각 클러스터에 해당하는 개수\n",
    "    length = [1]*num\n",
    "    for i in range(num):\n",
    "        length[i] += len(cluster_id[cluster_id.cluster==i]) \n",
    "    \n",
    "    # train, test 에 cluster 정보 추가\n",
    "    user_item_train_cl = pd.concat([train_matrix, cluster_id], axis=1, join='inner')\n",
    "    user_item_test_cl = pd.concat([test_matrix, cluster_id], axis=1, join='inner')\n",
    "    \n",
    "    ## 2. 클러스터 별로 각 item의 mean 값 구함 (train 대상)\n",
    "    mean_rating = pd.DataFrame(columns = user_item_train_cl.columns)\n",
    "    mean_rating.set_index('cluster')\n",
    "    \n",
    "    for i in range(num):\n",
    "        mean_rating = mean_rating.append(user_item_train_cl[user_item_train_cl.cluster == i].mean(axis=0), ignore_index=True)\n",
    "    \n",
    "    mean_rating = mean_rating.set_index('cluster')\n",
    "    mean_rating\n",
    "    \n",
    "    ## 3. train-test set의 columns(item id) 맞추기 (miss matching 제거)\n",
    "    for c in user_item_train_cl.columns:\n",
    "        if c not in user_item_test_cl.columns:\n",
    "            del mean_rating[c]\n",
    "        \n",
    "    for c in user_item_test_cl.columns:\n",
    "        if c not in user_item_train_cl.columns:\n",
    "            del user_item_test_cl[c] \n",
    "            \n",
    "    y_pred = mean_rating \n",
    "    y_true = user_item_test_cl\n",
    "    \n",
    "    result = [0]*num # 결과값 저장 리스트\n",
    "    \n",
    "    ## 4. 각 결과 값에 nDCG 더해줌\n",
    "    for idx in test_matrix.index:\n",
    "        cluster_num = int(y_true.loc[idx].cluster)\n",
    "        result[cluster_num] += ndcg_score([y_true.loc[idx][:-1]], [y_pred.loc[cluster_num]])\n",
    "        #result[cluster] += ndcg_score([user_item_test_cl.loc[idx][:-1]], [mean_rating.loc[cluster]], k=4)\n",
    "    \n",
    "    ## 5. 최종적으로 각 nDCG값 / 각 cluster의 요소 개수\n",
    "    for i in range(num):\n",
    "        result[i] = result[i]/length[i]\n",
    "        \n",
    "    print(length)\n",
    "    \n",
    "    #print(\"cluster수:\",len(length),\"/ NDCG:\",sum(result)/len(length))  \n",
    "    print('%.5f'%(sum(result)/(len(length))))\n",
    "    "
   ]
  },
  {
   "cell_type": "code",
   "execution_count": 19,
   "id": "a99252e9",
   "metadata": {},
   "outputs": [
    {
     "name": "stdout",
     "output_type": "stream",
     "text": [
      "[152, 261, 260, 273, 2]\n",
      "0.38590\n"
     ]
    }
   ],
   "source": [
    "grs_ndcg(user_item_total, user_item_train)"
   ]
  },
  {
   "cell_type": "code",
   "execution_count": null,
   "id": "2a119abf",
   "metadata": {},
   "outputs": [],
   "source": []
  }
 ],
 "metadata": {
  "kernelspec": {
   "display_name": "Python 3 (ipykernel)",
   "language": "python",
   "name": "python3"
  },
  "language_info": {
   "codemirror_mode": {
    "name": "ipython",
    "version": 3
   },
   "file_extension": ".py",
   "mimetype": "text/x-python",
   "name": "python",
   "nbconvert_exporter": "python",
   "pygments_lexer": "ipython3",
   "version": "3.9.12"
  }
 },
 "nbformat": 4,
 "nbformat_minor": 5
}
